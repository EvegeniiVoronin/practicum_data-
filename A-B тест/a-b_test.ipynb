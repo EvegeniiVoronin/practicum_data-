{
 "cells": [
  {
   "cell_type": "markdown",
   "metadata": {},
   "source": [
    "# Принятие решений в бизнесе на основе данных"
   ]
  },
  {
   "cell_type": "markdown",
   "metadata": {},
   "source": [
    "## Описание проекта"
   ]
  },
  {
   "cell_type": "markdown",
   "metadata": {},
   "source": [
    "Вы — аналитик крупного интернет-магазина. Вместе с отделом маркетинга вы подготовили список гипотез для увеличения выручки.\n",
    "Приоритизируйте гипотезы, запустите A/B-тест и проанализируйте результаты."
   ]
  },
  {
   "cell_type": "markdown",
   "metadata": {},
   "source": [
    "## Описание данных "
   ]
  },
  {
   "cell_type": "markdown",
   "metadata": {},
   "source": [
    "**Файл hypothesis.csv:**\n",
    "- Hypothesis — краткое описание гипотезы;\n",
    "- Reach — охват пользователей по 10-балльной шкале;\n",
    "- Impact — влияние на пользователей по 10-балльной шкале;\n",
    "- Confidence — уверенность в гипотезе по 10-балльной шкале;\n",
    "- Efforts — затраты ресурсов на проверку гипотезы по 10-балльной шкале. Чем больше значение Efforts, тем дороже проверка гипотезы.\n",
    "\n",
    "**Файл orders.csv:**\n",
    "- transactionId — идентификатор заказа;\n",
    "- visitorId — идентификатор пользователя, совершившего заказ;\n",
    "- date — дата, когда был совершён заказ;\n",
    "- revenue — выручка заказа;\n",
    "- group — группа A/B-теста, в которую попал заказ.\n",
    "\n",
    "**Файл visitors.csv:**\n",
    "- date — дата;\n",
    "- group — группа A/B-теста;\n",
    "- visitors — количество пользователей в указанную дату в указанной группе A/B-теста"
   ]
  },
  {
   "cell_type": "markdown",
   "metadata": {},
   "source": [
    "## Задачи и ход исследования"
   ]
  },
  {
   "cell_type": "markdown",
   "metadata": {},
   "source": [
    "**Часть 1. Приоритизация гипотез.**\n",
    "В файле hypothesis.csv 9 гипотез по увеличению выручки интернет-магазина с указанными параметрами Reach, Impact, Confidence, Effort.\n",
    "\n",
    "**Задачи:**\n",
    "- Применим фреймворк ICE для приоритизации гипотез. Отсортируем их по убыванию приоритета.\n",
    "- Применим фреймворк RICE для приоритизации гипотез. Отсортируем их по убыванию приоритета.\n",
    "- Укажим, как изменилась приоритизация гипотез при применении RICE вместо ICE. Объясним, почему так произошло.\n",
    "\n",
    "**Часть 2. Анализ A/B-теста**\n",
    "Вы провели A/B-тест и получили результаты, которые описаны в файлах orders.csv и visitors.csv.\n",
    "\n",
    "**Задачи:**\n",
    "- Проанализируем A/B-тест:\n",
    "1. Построим график кумулятивной выручки по группам. Сделаем выводы и предположения.\n",
    "2. Построим график кумулятивного среднего чека по группам. Сделаем выводы и предположения.\n",
    "3. Построим график относительного изменения кумулятивного среднего чека группы B к группе A. Сделаем выводы и предположения.\n",
    "4. Построим график кумулятивной конверсии по группам. Сделаем выводы и предположения.\n",
    "5. Построим график относительного изменения кумулятивной конверсии группы B к группе A. Сделаем выводы и предположения.\n",
    "6. Построим точечный график количества заказов по пользователям. Сделаем выводы и предположения.\n",
    "7. Посчитаем 95-й и 99-й перцентили количества заказов на пользователя. Выберим границу для определения аномальных пользователей.\n",
    "8. Постройте точечный график стоимостей заказов. Сделаем выводы и предположения.\n",
    "9. Посчитаем 95-й и 99-й перцентили стоимости заказов. Выберим границу для определения аномальных заказов.\n",
    "10. Посчитаем статистическую значимость различий в конверсии между группами по «сырым» данным. Сделаем выводы и предположения.\n",
    "11. Посчитаем статистическую значимость различий в среднем чеке заказа между группами по «сырым» данным. Сделаем выводы и предположения.\n",
    "12. Посчитаем статистическую значимость различий в конверсии между группами по «очищенным» данным. Сделаем выводы и предположения.\n",
    "13. Посчитаем статистическую значимость различий в среднем чеке заказа между группами по «очищенным» данным. Сделаем выводы и предположения.\n",
    "14. Примим решение по результатам теста и объясним его. Варианты решений: 1. Остановить тест, зафиксировать победу одной из групп. 2. Остановить тест, зафиксировать отсутствие различий между группами. 3. Продолжить тест."
   ]
  },
  {
   "cell_type": "markdown",
   "metadata": {},
   "source": [
    "## Изучение общей информации о данных"
   ]
  },
  {
   "cell_type": "markdown",
   "metadata": {},
   "source": [
    "- Подгрузим библиотеки и датасеты.\n",
    "- Проверим название колонок, структуру таблиц, формат таблицы, наличие пустых строк, наличие дубликатов и нулевых объектов, наличие пропусков и описание числовых данных"
   ]
  },
  {
   "cell_type": "code",
   "execution_count": 1,
   "metadata": {},
   "outputs": [],
   "source": [
    "import pandas as pd\n",
    "from scipy import stats as st\n",
    "import warnings\n",
    "warnings.filterwarnings('ignore')\n",
    "from IPython.display import display\n",
    "from pymystem3 import Mystem\n",
    "from collections import Counter\n",
    "import matplotlib.pyplot as plt\n",
    "import numpy as np\n",
    "import seaborn as sns\n",
    "import math\n",
    "import os\n",
    "import datetime as dt\n",
    "pd.set_option('display.max_columns', None)\n",
    "pd.options.display.float_format = '{:,.2f}'.format"
   ]
  },
  {
   "cell_type": "code",
   "execution_count": 2,
   "metadata": {},
   "outputs": [],
   "source": [
    "try:\n",
    "    hypothesis = pd.read_csv('C:\\\\Users\\\\User\\\\Downloads\\\\hypothesis.csv')\n",
    "    orders = pd.read_csv('C:\\\\Users\\\\User\\\\Downloads\\\\orders.csv')\n",
    "    visitors = pd.read_csv('C:\\\\Users\\\\User\\\\Downloads\\\\visitors.csv')\n",
    "\n",
    "except:\n",
    "    hypothesis = pd.read_csv('/datasets/hypothesis.csv')\n",
    "    orders = pd.read_csv('/datasets/orders.csv')\n",
    "    visitors = pd.read_csv('/datasets/visitors.csv')"
   ]
  },
  {
   "cell_type": "markdown",
   "metadata": {},
   "source": [
    "4.1. **Изучим таблицу \"hypothesis\"**"
   ]
  },
  {
   "cell_type": "code",
   "execution_count": 3,
   "metadata": {},
   "outputs": [
    {
     "data": {
      "text/plain": [
       "Index(['Hypothesis', 'Reach', 'Impact', 'Confidence', 'Efforts'], dtype='object')"
      ]
     },
     "metadata": {},
     "output_type": "display_data"
    },
    {
     "data": {
      "text/html": [
       "<div>\n",
       "<style scoped>\n",
       "    .dataframe tbody tr th:only-of-type {\n",
       "        vertical-align: middle;\n",
       "    }\n",
       "\n",
       "    .dataframe tbody tr th {\n",
       "        vertical-align: top;\n",
       "    }\n",
       "\n",
       "    .dataframe thead th {\n",
       "        text-align: right;\n",
       "    }\n",
       "</style>\n",
       "<table border=\"1\" class=\"dataframe\">\n",
       "  <thead>\n",
       "    <tr style=\"text-align: right;\">\n",
       "      <th></th>\n",
       "      <th>Hypothesis</th>\n",
       "      <th>Reach</th>\n",
       "      <th>Impact</th>\n",
       "      <th>Confidence</th>\n",
       "      <th>Efforts</th>\n",
       "    </tr>\n",
       "  </thead>\n",
       "  <tbody>\n",
       "    <tr>\n",
       "      <td>0</td>\n",
       "      <td>Добавить два новых канала привлечения трафика,...</td>\n",
       "      <td>3</td>\n",
       "      <td>10</td>\n",
       "      <td>8</td>\n",
       "      <td>6</td>\n",
       "    </tr>\n",
       "    <tr>\n",
       "      <td>1</td>\n",
       "      <td>Запустить собственную службу доставки, что сок...</td>\n",
       "      <td>2</td>\n",
       "      <td>5</td>\n",
       "      <td>4</td>\n",
       "      <td>10</td>\n",
       "    </tr>\n",
       "    <tr>\n",
       "      <td>2</td>\n",
       "      <td>Добавить блоки рекомендаций товаров на сайт ин...</td>\n",
       "      <td>8</td>\n",
       "      <td>3</td>\n",
       "      <td>7</td>\n",
       "      <td>3</td>\n",
       "    </tr>\n",
       "    <tr>\n",
       "      <td>3</td>\n",
       "      <td>Изменить структура категорий, что увеличит кон...</td>\n",
       "      <td>8</td>\n",
       "      <td>3</td>\n",
       "      <td>3</td>\n",
       "      <td>8</td>\n",
       "    </tr>\n",
       "    <tr>\n",
       "      <td>4</td>\n",
       "      <td>Изменить цвет фона главной страницы, чтобы уве...</td>\n",
       "      <td>3</td>\n",
       "      <td>1</td>\n",
       "      <td>1</td>\n",
       "      <td>1</td>\n",
       "    </tr>\n",
       "  </tbody>\n",
       "</table>\n",
       "</div>"
      ],
      "text/plain": [
       "                                          Hypothesis  Reach  Impact  \\\n",
       "0  Добавить два новых канала привлечения трафика,...      3      10   \n",
       "1  Запустить собственную службу доставки, что сок...      2       5   \n",
       "2  Добавить блоки рекомендаций товаров на сайт ин...      8       3   \n",
       "3  Изменить структура категорий, что увеличит кон...      8       3   \n",
       "4  Изменить цвет фона главной страницы, чтобы уве...      3       1   \n",
       "\n",
       "   Confidence  Efforts  \n",
       "0           8        6  \n",
       "1           4       10  \n",
       "2           7        3  \n",
       "3           3        8  \n",
       "4           1        1  "
      ]
     },
     "metadata": {},
     "output_type": "display_data"
    },
    {
     "name": "stdout",
     "output_type": "stream",
     "text": [
      "<class 'pandas.core.frame.DataFrame'>\n",
      "RangeIndex: 9 entries, 0 to 8\n",
      "Data columns (total 5 columns):\n",
      "Hypothesis    9 non-null object\n",
      "Reach         9 non-null int64\n",
      "Impact        9 non-null int64\n",
      "Confidence    9 non-null int64\n",
      "Efforts       9 non-null int64\n",
      "dtypes: int64(4), object(1)\n",
      "memory usage: 488.0+ bytes\n"
     ]
    },
    {
     "data": {
      "text/plain": [
       "None"
      ]
     },
     "metadata": {},
     "output_type": "display_data"
    },
    {
     "data": {
      "text/plain": [
       "0"
      ]
     },
     "metadata": {},
     "output_type": "display_data"
    },
    {
     "data": {
      "text/html": [
       "<style  type=\"text/css\" >\n",
       "    #T_6982d170_966b_11ec_9fab_02420a391d31row0_col0 {\n",
       "            background-color:  #3b4cc0;\n",
       "            color:  #f1f1f1;\n",
       "        }    #T_6982d170_966b_11ec_9fab_02420a391d31row1_col0 {\n",
       "            background-color:  #3b4cc0;\n",
       "            color:  #f1f1f1;\n",
       "        }    #T_6982d170_966b_11ec_9fab_02420a391d31row2_col0 {\n",
       "            background-color:  #3b4cc0;\n",
       "            color:  #f1f1f1;\n",
       "        }    #T_6982d170_966b_11ec_9fab_02420a391d31row3_col0 {\n",
       "            background-color:  #3b4cc0;\n",
       "            color:  #f1f1f1;\n",
       "        }    #T_6982d170_966b_11ec_9fab_02420a391d31row4_col0 {\n",
       "            background-color:  #3b4cc0;\n",
       "            color:  #f1f1f1;\n",
       "        }</style><table id=\"T_6982d170_966b_11ec_9fab_02420a391d31\" ><thead>    <tr>        <th class=\"blank level0\" ></th>        <th class=\"col_heading level0 col0\" >0</th>    </tr></thead><tbody>\n",
       "                <tr>\n",
       "                        <th id=\"T_6982d170_966b_11ec_9fab_02420a391d31level0_row0\" class=\"row_heading level0 row0\" >Hypothesis</th>\n",
       "                        <td id=\"T_6982d170_966b_11ec_9fab_02420a391d31row0_col0\" class=\"data row0 col0\" >0</td>\n",
       "            </tr>\n",
       "            <tr>\n",
       "                        <th id=\"T_6982d170_966b_11ec_9fab_02420a391d31level0_row1\" class=\"row_heading level0 row1\" >Reach</th>\n",
       "                        <td id=\"T_6982d170_966b_11ec_9fab_02420a391d31row1_col0\" class=\"data row1 col0\" >0</td>\n",
       "            </tr>\n",
       "            <tr>\n",
       "                        <th id=\"T_6982d170_966b_11ec_9fab_02420a391d31level0_row2\" class=\"row_heading level0 row2\" >Impact</th>\n",
       "                        <td id=\"T_6982d170_966b_11ec_9fab_02420a391d31row2_col0\" class=\"data row2 col0\" >0</td>\n",
       "            </tr>\n",
       "            <tr>\n",
       "                        <th id=\"T_6982d170_966b_11ec_9fab_02420a391d31level0_row3\" class=\"row_heading level0 row3\" >Confidence</th>\n",
       "                        <td id=\"T_6982d170_966b_11ec_9fab_02420a391d31row3_col0\" class=\"data row3 col0\" >0</td>\n",
       "            </tr>\n",
       "            <tr>\n",
       "                        <th id=\"T_6982d170_966b_11ec_9fab_02420a391d31level0_row4\" class=\"row_heading level0 row4\" >Efforts</th>\n",
       "                        <td id=\"T_6982d170_966b_11ec_9fab_02420a391d31row4_col0\" class=\"data row4 col0\" >0</td>\n",
       "            </tr>\n",
       "    </tbody></table>"
      ],
      "text/plain": [
       "<pandas.io.formats.style.Styler at 0x7fde1283c890>"
      ]
     },
     "metadata": {},
     "output_type": "display_data"
    },
    {
     "data": {
      "text/html": [
       "<div>\n",
       "<style scoped>\n",
       "    .dataframe tbody tr th:only-of-type {\n",
       "        vertical-align: middle;\n",
       "    }\n",
       "\n",
       "    .dataframe tbody tr th {\n",
       "        vertical-align: top;\n",
       "    }\n",
       "\n",
       "    .dataframe thead th {\n",
       "        text-align: right;\n",
       "    }\n",
       "</style>\n",
       "<table border=\"1\" class=\"dataframe\">\n",
       "  <thead>\n",
       "    <tr style=\"text-align: right;\">\n",
       "      <th></th>\n",
       "      <th>Reach</th>\n",
       "      <th>Impact</th>\n",
       "      <th>Confidence</th>\n",
       "      <th>Efforts</th>\n",
       "    </tr>\n",
       "  </thead>\n",
       "  <tbody>\n",
       "    <tr>\n",
       "      <td>count</td>\n",
       "      <td>9.00</td>\n",
       "      <td>9.00</td>\n",
       "      <td>9.00</td>\n",
       "      <td>9.00</td>\n",
       "    </tr>\n",
       "    <tr>\n",
       "      <td>mean</td>\n",
       "      <td>4.78</td>\n",
       "      <td>4.78</td>\n",
       "      <td>5.56</td>\n",
       "      <td>4.89</td>\n",
       "    </tr>\n",
       "    <tr>\n",
       "      <td>std</td>\n",
       "      <td>3.15</td>\n",
       "      <td>3.19</td>\n",
       "      <td>3.05</td>\n",
       "      <td>2.80</td>\n",
       "    </tr>\n",
       "    <tr>\n",
       "      <td>min</td>\n",
       "      <td>1.00</td>\n",
       "      <td>1.00</td>\n",
       "      <td>1.00</td>\n",
       "      <td>1.00</td>\n",
       "    </tr>\n",
       "    <tr>\n",
       "      <td>25%</td>\n",
       "      <td>3.00</td>\n",
       "      <td>3.00</td>\n",
       "      <td>3.00</td>\n",
       "      <td>3.00</td>\n",
       "    </tr>\n",
       "    <tr>\n",
       "      <td>50%</td>\n",
       "      <td>3.00</td>\n",
       "      <td>3.00</td>\n",
       "      <td>7.00</td>\n",
       "      <td>5.00</td>\n",
       "    </tr>\n",
       "    <tr>\n",
       "      <td>75%</td>\n",
       "      <td>8.00</td>\n",
       "      <td>7.00</td>\n",
       "      <td>8.00</td>\n",
       "      <td>6.00</td>\n",
       "    </tr>\n",
       "    <tr>\n",
       "      <td>max</td>\n",
       "      <td>10.00</td>\n",
       "      <td>10.00</td>\n",
       "      <td>9.00</td>\n",
       "      <td>10.00</td>\n",
       "    </tr>\n",
       "  </tbody>\n",
       "</table>\n",
       "</div>"
      ],
      "text/plain": [
       "       Reach  Impact  Confidence  Efforts\n",
       "count   9.00    9.00        9.00     9.00\n",
       "mean    4.78    4.78        5.56     4.89\n",
       "std     3.15    3.19        3.05     2.80\n",
       "min     1.00    1.00        1.00     1.00\n",
       "25%     3.00    3.00        3.00     3.00\n",
       "50%     3.00    3.00        7.00     5.00\n",
       "75%     8.00    7.00        8.00     6.00\n",
       "max    10.00   10.00        9.00    10.00"
      ]
     },
     "metadata": {},
     "output_type": "display_data"
    }
   ],
   "source": [
    "display(hypothesis.columns) # название колонок\n",
    "display(hypothesis.head())# структуру таблицы\n",
    "display(hypothesis.info())# состав таблицы, формат столбцов, наличие пустых строк\n",
    "display(hypothesis.duplicated().sum()) # наличие дубликатов\n",
    "display(pd.DataFrame(round((hypothesis.isna().mean()*100),2)).style.background_gradient('coolwarm'))# наличие пропусков\n",
    "display(hypothesis.describe()) # описание числовых данных"
   ]
  },
  {
   "cell_type": "markdown",
   "metadata": {},
   "source": [
    "Данные в порядке. Никаких проблем нет."
   ]
  },
  {
   "cell_type": "markdown",
   "metadata": {},
   "source": [
    "4.2. **Изучим таблицу \"orders\"**"
   ]
  },
  {
   "cell_type": "code",
   "execution_count": 4,
   "metadata": {},
   "outputs": [
    {
     "data": {
      "text/plain": [
       "Index(['transactionId', 'visitorId', 'date', 'revenue', 'group'], dtype='object')"
      ]
     },
     "metadata": {},
     "output_type": "display_data"
    },
    {
     "data": {
      "text/html": [
       "<div>\n",
       "<style scoped>\n",
       "    .dataframe tbody tr th:only-of-type {\n",
       "        vertical-align: middle;\n",
       "    }\n",
       "\n",
       "    .dataframe tbody tr th {\n",
       "        vertical-align: top;\n",
       "    }\n",
       "\n",
       "    .dataframe thead th {\n",
       "        text-align: right;\n",
       "    }\n",
       "</style>\n",
       "<table border=\"1\" class=\"dataframe\">\n",
       "  <thead>\n",
       "    <tr style=\"text-align: right;\">\n",
       "      <th></th>\n",
       "      <th>transactionId</th>\n",
       "      <th>visitorId</th>\n",
       "      <th>date</th>\n",
       "      <th>revenue</th>\n",
       "      <th>group</th>\n",
       "    </tr>\n",
       "  </thead>\n",
       "  <tbody>\n",
       "    <tr>\n",
       "      <td>0</td>\n",
       "      <td>3667963787</td>\n",
       "      <td>3312258926</td>\n",
       "      <td>2019-08-15</td>\n",
       "      <td>1650</td>\n",
       "      <td>B</td>\n",
       "    </tr>\n",
       "    <tr>\n",
       "      <td>1</td>\n",
       "      <td>2804400009</td>\n",
       "      <td>3642806036</td>\n",
       "      <td>2019-08-15</td>\n",
       "      <td>730</td>\n",
       "      <td>B</td>\n",
       "    </tr>\n",
       "    <tr>\n",
       "      <td>2</td>\n",
       "      <td>2961555356</td>\n",
       "      <td>4069496402</td>\n",
       "      <td>2019-08-15</td>\n",
       "      <td>400</td>\n",
       "      <td>A</td>\n",
       "    </tr>\n",
       "    <tr>\n",
       "      <td>3</td>\n",
       "      <td>3797467345</td>\n",
       "      <td>1196621759</td>\n",
       "      <td>2019-08-15</td>\n",
       "      <td>9759</td>\n",
       "      <td>B</td>\n",
       "    </tr>\n",
       "    <tr>\n",
       "      <td>4</td>\n",
       "      <td>2282983706</td>\n",
       "      <td>2322279887</td>\n",
       "      <td>2019-08-15</td>\n",
       "      <td>2308</td>\n",
       "      <td>B</td>\n",
       "    </tr>\n",
       "  </tbody>\n",
       "</table>\n",
       "</div>"
      ],
      "text/plain": [
       "   transactionId   visitorId        date  revenue group\n",
       "0     3667963787  3312258926  2019-08-15     1650     B\n",
       "1     2804400009  3642806036  2019-08-15      730     B\n",
       "2     2961555356  4069496402  2019-08-15      400     A\n",
       "3     3797467345  1196621759  2019-08-15     9759     B\n",
       "4     2282983706  2322279887  2019-08-15     2308     B"
      ]
     },
     "metadata": {},
     "output_type": "display_data"
    },
    {
     "name": "stdout",
     "output_type": "stream",
     "text": [
      "<class 'pandas.core.frame.DataFrame'>\n",
      "RangeIndex: 1197 entries, 0 to 1196\n",
      "Data columns (total 5 columns):\n",
      "transactionId    1197 non-null int64\n",
      "visitorId        1197 non-null int64\n",
      "date             1197 non-null object\n",
      "revenue          1197 non-null int64\n",
      "group            1197 non-null object\n",
      "dtypes: int64(3), object(2)\n",
      "memory usage: 46.9+ KB\n"
     ]
    },
    {
     "data": {
      "text/plain": [
       "None"
      ]
     },
     "metadata": {},
     "output_type": "display_data"
    },
    {
     "data": {
      "text/plain": [
       "0"
      ]
     },
     "metadata": {},
     "output_type": "display_data"
    },
    {
     "data": {
      "text/html": [
       "<style  type=\"text/css\" >\n",
       "    #T_698b05f2_966b_11ec_9fab_02420a391d31row0_col0 {\n",
       "            background-color:  #3b4cc0;\n",
       "            color:  #f1f1f1;\n",
       "        }    #T_698b05f2_966b_11ec_9fab_02420a391d31row1_col0 {\n",
       "            background-color:  #3b4cc0;\n",
       "            color:  #f1f1f1;\n",
       "        }    #T_698b05f2_966b_11ec_9fab_02420a391d31row2_col0 {\n",
       "            background-color:  #3b4cc0;\n",
       "            color:  #f1f1f1;\n",
       "        }    #T_698b05f2_966b_11ec_9fab_02420a391d31row3_col0 {\n",
       "            background-color:  #3b4cc0;\n",
       "            color:  #f1f1f1;\n",
       "        }    #T_698b05f2_966b_11ec_9fab_02420a391d31row4_col0 {\n",
       "            background-color:  #3b4cc0;\n",
       "            color:  #f1f1f1;\n",
       "        }</style><table id=\"T_698b05f2_966b_11ec_9fab_02420a391d31\" ><thead>    <tr>        <th class=\"blank level0\" ></th>        <th class=\"col_heading level0 col0\" >0</th>    </tr></thead><tbody>\n",
       "                <tr>\n",
       "                        <th id=\"T_698b05f2_966b_11ec_9fab_02420a391d31level0_row0\" class=\"row_heading level0 row0\" >transactionId</th>\n",
       "                        <td id=\"T_698b05f2_966b_11ec_9fab_02420a391d31row0_col0\" class=\"data row0 col0\" >0</td>\n",
       "            </tr>\n",
       "            <tr>\n",
       "                        <th id=\"T_698b05f2_966b_11ec_9fab_02420a391d31level0_row1\" class=\"row_heading level0 row1\" >visitorId</th>\n",
       "                        <td id=\"T_698b05f2_966b_11ec_9fab_02420a391d31row1_col0\" class=\"data row1 col0\" >0</td>\n",
       "            </tr>\n",
       "            <tr>\n",
       "                        <th id=\"T_698b05f2_966b_11ec_9fab_02420a391d31level0_row2\" class=\"row_heading level0 row2\" >date</th>\n",
       "                        <td id=\"T_698b05f2_966b_11ec_9fab_02420a391d31row2_col0\" class=\"data row2 col0\" >0</td>\n",
       "            </tr>\n",
       "            <tr>\n",
       "                        <th id=\"T_698b05f2_966b_11ec_9fab_02420a391d31level0_row3\" class=\"row_heading level0 row3\" >revenue</th>\n",
       "                        <td id=\"T_698b05f2_966b_11ec_9fab_02420a391d31row3_col0\" class=\"data row3 col0\" >0</td>\n",
       "            </tr>\n",
       "            <tr>\n",
       "                        <th id=\"T_698b05f2_966b_11ec_9fab_02420a391d31level0_row4\" class=\"row_heading level0 row4\" >group</th>\n",
       "                        <td id=\"T_698b05f2_966b_11ec_9fab_02420a391d31row4_col0\" class=\"data row4 col0\" >0</td>\n",
       "            </tr>\n",
       "    </tbody></table>"
      ],
      "text/plain": [
       "<pandas.io.formats.style.Styler at 0x7fde1266c310>"
      ]
     },
     "metadata": {},
     "output_type": "display_data"
    },
    {
     "data": {
      "text/html": [
       "<div>\n",
       "<style scoped>\n",
       "    .dataframe tbody tr th:only-of-type {\n",
       "        vertical-align: middle;\n",
       "    }\n",
       "\n",
       "    .dataframe tbody tr th {\n",
       "        vertical-align: top;\n",
       "    }\n",
       "\n",
       "    .dataframe thead th {\n",
       "        text-align: right;\n",
       "    }\n",
       "</style>\n",
       "<table border=\"1\" class=\"dataframe\">\n",
       "  <thead>\n",
       "    <tr style=\"text-align: right;\">\n",
       "      <th></th>\n",
       "      <th>transactionId</th>\n",
       "      <th>visitorId</th>\n",
       "      <th>revenue</th>\n",
       "    </tr>\n",
       "  </thead>\n",
       "  <tbody>\n",
       "    <tr>\n",
       "      <td>count</td>\n",
       "      <td>1,197.00</td>\n",
       "      <td>1,197.00</td>\n",
       "      <td>1,197.00</td>\n",
       "    </tr>\n",
       "    <tr>\n",
       "      <td>mean</td>\n",
       "      <td>2,155,621,385.53</td>\n",
       "      <td>2,165,960,143.10</td>\n",
       "      <td>8,348.01</td>\n",
       "    </tr>\n",
       "    <tr>\n",
       "      <td>std</td>\n",
       "      <td>1,229,084,904.76</td>\n",
       "      <td>1,236,014,192.15</td>\n",
       "      <td>39,191.13</td>\n",
       "    </tr>\n",
       "    <tr>\n",
       "      <td>min</td>\n",
       "      <td>1,062,393.00</td>\n",
       "      <td>5,114,589.00</td>\n",
       "      <td>50.00</td>\n",
       "    </tr>\n",
       "    <tr>\n",
       "      <td>25%</td>\n",
       "      <td>1,166,775,572.00</td>\n",
       "      <td>1,111,826,046.00</td>\n",
       "      <td>1,220.00</td>\n",
       "    </tr>\n",
       "    <tr>\n",
       "      <td>50%</td>\n",
       "      <td>2,145,193,898.00</td>\n",
       "      <td>2,217,984,702.00</td>\n",
       "      <td>2,978.00</td>\n",
       "    </tr>\n",
       "    <tr>\n",
       "      <td>75%</td>\n",
       "      <td>3,237,740,112.00</td>\n",
       "      <td>3,177,606,451.00</td>\n",
       "      <td>8,290.00</td>\n",
       "    </tr>\n",
       "    <tr>\n",
       "      <td>max</td>\n",
       "      <td>4,293,855,558.00</td>\n",
       "      <td>4,283,872,382.00</td>\n",
       "      <td>1,294,500.00</td>\n",
       "    </tr>\n",
       "  </tbody>\n",
       "</table>\n",
       "</div>"
      ],
      "text/plain": [
       "         transactionId        visitorId      revenue\n",
       "count         1,197.00         1,197.00     1,197.00\n",
       "mean  2,155,621,385.53 2,165,960,143.10     8,348.01\n",
       "std   1,229,084,904.76 1,236,014,192.15    39,191.13\n",
       "min       1,062,393.00     5,114,589.00        50.00\n",
       "25%   1,166,775,572.00 1,111,826,046.00     1,220.00\n",
       "50%   2,145,193,898.00 2,217,984,702.00     2,978.00\n",
       "75%   3,237,740,112.00 3,177,606,451.00     8,290.00\n",
       "max   4,293,855,558.00 4,283,872,382.00 1,294,500.00"
      ]
     },
     "metadata": {},
     "output_type": "display_data"
    }
   ],
   "source": [
    "display(orders.columns) # название колонок\n",
    "display(orders.head())# структуру таблицы\n",
    "display(orders.info())# состав таблицы, формат столбцов, наличие пустых строк\n",
    "display(orders.duplicated().sum()) # наличие дубликатов\n",
    "display(pd.DataFrame(round((orders.isna().mean()*100),2)).style.background_gradient('coolwarm'))# наличие пропусков\n",
    "display(orders.describe()) # описание числовых данных"
   ]
  },
  {
   "cell_type": "code",
   "execution_count": 5,
   "metadata": {},
   "outputs": [
    {
     "data": {
      "text/plain": [
       "visitorId    58\n",
       "group        58\n",
       "dtype: int64"
      ]
     },
     "execution_count": 5,
     "metadata": {},
     "output_type": "execute_result"
    }
   ],
   "source": [
    "#Дополнительно проверим пользователей на пересечение в группах \n",
    "ab = orders.groupby('visitorId', as_index=False).agg({'group':'nunique'})\n",
    "ab.query('group == 2').count()"
   ]
  },
  {
   "cell_type": "markdown",
   "metadata": {},
   "source": [
    "1. Возможно, что формат даты нужно будет поменять.\n",
    "2. Есть анормальные значения. Их изучим позже.\n",
    "3. У нас имеется пересечение по 58 пользователям, что составляет 4,9 процента от общей выборки. По идее, этих пользователей можно удалить из таблицы, но рисковать не будем"
   ]
  },
  {
   "cell_type": "markdown",
   "metadata": {},
   "source": [
    "4.3. **Изучим таблицу \"visitors\"**"
   ]
  },
  {
   "cell_type": "code",
   "execution_count": 6,
   "metadata": {},
   "outputs": [
    {
     "data": {
      "text/plain": [
       "Index(['date', 'group', 'visitors'], dtype='object')"
      ]
     },
     "metadata": {},
     "output_type": "display_data"
    },
    {
     "data": {
      "text/html": [
       "<div>\n",
       "<style scoped>\n",
       "    .dataframe tbody tr th:only-of-type {\n",
       "        vertical-align: middle;\n",
       "    }\n",
       "\n",
       "    .dataframe tbody tr th {\n",
       "        vertical-align: top;\n",
       "    }\n",
       "\n",
       "    .dataframe thead th {\n",
       "        text-align: right;\n",
       "    }\n",
       "</style>\n",
       "<table border=\"1\" class=\"dataframe\">\n",
       "  <thead>\n",
       "    <tr style=\"text-align: right;\">\n",
       "      <th></th>\n",
       "      <th>date</th>\n",
       "      <th>group</th>\n",
       "      <th>visitors</th>\n",
       "    </tr>\n",
       "  </thead>\n",
       "  <tbody>\n",
       "    <tr>\n",
       "      <td>0</td>\n",
       "      <td>2019-08-01</td>\n",
       "      <td>A</td>\n",
       "      <td>719</td>\n",
       "    </tr>\n",
       "    <tr>\n",
       "      <td>1</td>\n",
       "      <td>2019-08-02</td>\n",
       "      <td>A</td>\n",
       "      <td>619</td>\n",
       "    </tr>\n",
       "    <tr>\n",
       "      <td>2</td>\n",
       "      <td>2019-08-03</td>\n",
       "      <td>A</td>\n",
       "      <td>507</td>\n",
       "    </tr>\n",
       "    <tr>\n",
       "      <td>3</td>\n",
       "      <td>2019-08-04</td>\n",
       "      <td>A</td>\n",
       "      <td>717</td>\n",
       "    </tr>\n",
       "    <tr>\n",
       "      <td>4</td>\n",
       "      <td>2019-08-05</td>\n",
       "      <td>A</td>\n",
       "      <td>756</td>\n",
       "    </tr>\n",
       "  </tbody>\n",
       "</table>\n",
       "</div>"
      ],
      "text/plain": [
       "         date group  visitors\n",
       "0  2019-08-01     A       719\n",
       "1  2019-08-02     A       619\n",
       "2  2019-08-03     A       507\n",
       "3  2019-08-04     A       717\n",
       "4  2019-08-05     A       756"
      ]
     },
     "metadata": {},
     "output_type": "display_data"
    },
    {
     "name": "stdout",
     "output_type": "stream",
     "text": [
      "<class 'pandas.core.frame.DataFrame'>\n",
      "RangeIndex: 62 entries, 0 to 61\n",
      "Data columns (total 3 columns):\n",
      "date        62 non-null object\n",
      "group       62 non-null object\n",
      "visitors    62 non-null int64\n",
      "dtypes: int64(1), object(2)\n",
      "memory usage: 1.6+ KB\n"
     ]
    },
    {
     "data": {
      "text/plain": [
       "None"
      ]
     },
     "metadata": {},
     "output_type": "display_data"
    },
    {
     "data": {
      "text/plain": [
       "0"
      ]
     },
     "metadata": {},
     "output_type": "display_data"
    },
    {
     "data": {
      "text/html": [
       "<style  type=\"text/css\" >\n",
       "    #T_69980176_966b_11ec_9fab_02420a391d31row0_col0 {\n",
       "            background-color:  #3b4cc0;\n",
       "            color:  #f1f1f1;\n",
       "        }    #T_69980176_966b_11ec_9fab_02420a391d31row1_col0 {\n",
       "            background-color:  #3b4cc0;\n",
       "            color:  #f1f1f1;\n",
       "        }    #T_69980176_966b_11ec_9fab_02420a391d31row2_col0 {\n",
       "            background-color:  #3b4cc0;\n",
       "            color:  #f1f1f1;\n",
       "        }</style><table id=\"T_69980176_966b_11ec_9fab_02420a391d31\" ><thead>    <tr>        <th class=\"blank level0\" ></th>        <th class=\"col_heading level0 col0\" >0</th>    </tr></thead><tbody>\n",
       "                <tr>\n",
       "                        <th id=\"T_69980176_966b_11ec_9fab_02420a391d31level0_row0\" class=\"row_heading level0 row0\" >date</th>\n",
       "                        <td id=\"T_69980176_966b_11ec_9fab_02420a391d31row0_col0\" class=\"data row0 col0\" >0</td>\n",
       "            </tr>\n",
       "            <tr>\n",
       "                        <th id=\"T_69980176_966b_11ec_9fab_02420a391d31level0_row1\" class=\"row_heading level0 row1\" >group</th>\n",
       "                        <td id=\"T_69980176_966b_11ec_9fab_02420a391d31row1_col0\" class=\"data row1 col0\" >0</td>\n",
       "            </tr>\n",
       "            <tr>\n",
       "                        <th id=\"T_69980176_966b_11ec_9fab_02420a391d31level0_row2\" class=\"row_heading level0 row2\" >visitors</th>\n",
       "                        <td id=\"T_69980176_966b_11ec_9fab_02420a391d31row2_col0\" class=\"data row2 col0\" >0</td>\n",
       "            </tr>\n",
       "    </tbody></table>"
      ],
      "text/plain": [
       "<pandas.io.formats.style.Styler at 0x7fde12433950>"
      ]
     },
     "metadata": {},
     "output_type": "display_data"
    },
    {
     "data": {
      "text/html": [
       "<div>\n",
       "<style scoped>\n",
       "    .dataframe tbody tr th:only-of-type {\n",
       "        vertical-align: middle;\n",
       "    }\n",
       "\n",
       "    .dataframe tbody tr th {\n",
       "        vertical-align: top;\n",
       "    }\n",
       "\n",
       "    .dataframe thead th {\n",
       "        text-align: right;\n",
       "    }\n",
       "</style>\n",
       "<table border=\"1\" class=\"dataframe\">\n",
       "  <thead>\n",
       "    <tr style=\"text-align: right;\">\n",
       "      <th></th>\n",
       "      <th>visitors</th>\n",
       "    </tr>\n",
       "  </thead>\n",
       "  <tbody>\n",
       "    <tr>\n",
       "      <td>count</td>\n",
       "      <td>62.00</td>\n",
       "    </tr>\n",
       "    <tr>\n",
       "      <td>mean</td>\n",
       "      <td>607.29</td>\n",
       "    </tr>\n",
       "    <tr>\n",
       "      <td>std</td>\n",
       "      <td>114.40</td>\n",
       "    </tr>\n",
       "    <tr>\n",
       "      <td>min</td>\n",
       "      <td>361.00</td>\n",
       "    </tr>\n",
       "    <tr>\n",
       "      <td>25%</td>\n",
       "      <td>534.00</td>\n",
       "    </tr>\n",
       "    <tr>\n",
       "      <td>50%</td>\n",
       "      <td>624.50</td>\n",
       "    </tr>\n",
       "    <tr>\n",
       "      <td>75%</td>\n",
       "      <td>710.50</td>\n",
       "    </tr>\n",
       "    <tr>\n",
       "      <td>max</td>\n",
       "      <td>770.00</td>\n",
       "    </tr>\n",
       "  </tbody>\n",
       "</table>\n",
       "</div>"
      ],
      "text/plain": [
       "       visitors\n",
       "count     62.00\n",
       "mean     607.29\n",
       "std      114.40\n",
       "min      361.00\n",
       "25%      534.00\n",
       "50%      624.50\n",
       "75%      710.50\n",
       "max      770.00"
      ]
     },
     "metadata": {},
     "output_type": "display_data"
    }
   ],
   "source": [
    "display(visitors.columns) # название колонок\n",
    "display(visitors.head())# структуру таблицы\n",
    "display(visitors.info())# состав таблицы, формат столбцов, наличие пустых строк\n",
    "display(visitors.duplicated().sum()) # наличие дубликатов\n",
    "display(pd.DataFrame(round((visitors.isna().mean()*100),2)).style.background_gradient('coolwarm'))# наличие пропусков\n",
    "display(visitors.describe()) # описание числовых данных"
   ]
  },
  {
   "cell_type": "markdown",
   "metadata": {},
   "source": [
    "Опять таки, возможно придется изменить формат даты. В остальном все ок."
   ]
  },
  {
   "cell_type": "markdown",
   "metadata": {},
   "source": [
    "## Часть 1."
   ]
  },
  {
   "cell_type": "markdown",
   "metadata": {},
   "source": [
    "# 5.1. Применим фреймворк ICE для приоритизации гипотез. Отсортируем их по убыванию приоритета"
   ]
  },
  {
   "cell_type": "code",
   "execution_count": 7,
   "metadata": {},
   "outputs": [
    {
     "data": {
      "text/html": [
       "<div>\n",
       "<style scoped>\n",
       "    .dataframe tbody tr th:only-of-type {\n",
       "        vertical-align: middle;\n",
       "    }\n",
       "\n",
       "    .dataframe tbody tr th {\n",
       "        vertical-align: top;\n",
       "    }\n",
       "\n",
       "    .dataframe thead th {\n",
       "        text-align: right;\n",
       "    }\n",
       "</style>\n",
       "<table border=\"1\" class=\"dataframe\">\n",
       "  <thead>\n",
       "    <tr style=\"text-align: right;\">\n",
       "      <th></th>\n",
       "      <th>Hypothesis</th>\n",
       "      <th>Reach</th>\n",
       "      <th>Impact</th>\n",
       "      <th>Confidence</th>\n",
       "      <th>Efforts</th>\n",
       "      <th>ICE</th>\n",
       "    </tr>\n",
       "  </thead>\n",
       "  <tbody>\n",
       "    <tr>\n",
       "      <td>8</td>\n",
       "      <td>Запустить акцию, дающую скидку на товар в день...</td>\n",
       "      <td>1</td>\n",
       "      <td>9</td>\n",
       "      <td>9</td>\n",
       "      <td>5</td>\n",
       "      <td>16.20</td>\n",
       "    </tr>\n",
       "    <tr>\n",
       "      <td>0</td>\n",
       "      <td>Добавить два новых канала привлечения трафика,...</td>\n",
       "      <td>3</td>\n",
       "      <td>10</td>\n",
       "      <td>8</td>\n",
       "      <td>6</td>\n",
       "      <td>13.33</td>\n",
       "    </tr>\n",
       "    <tr>\n",
       "      <td>7</td>\n",
       "      <td>Добавить форму подписки на все основные страни...</td>\n",
       "      <td>10</td>\n",
       "      <td>7</td>\n",
       "      <td>8</td>\n",
       "      <td>5</td>\n",
       "      <td>11.20</td>\n",
       "    </tr>\n",
       "    <tr>\n",
       "      <td>6</td>\n",
       "      <td>Показать на главной странице баннеры с актуаль...</td>\n",
       "      <td>5</td>\n",
       "      <td>3</td>\n",
       "      <td>8</td>\n",
       "      <td>3</td>\n",
       "      <td>8.00</td>\n",
       "    </tr>\n",
       "    <tr>\n",
       "      <td>2</td>\n",
       "      <td>Добавить блоки рекомендаций товаров на сайт ин...</td>\n",
       "      <td>8</td>\n",
       "      <td>3</td>\n",
       "      <td>7</td>\n",
       "      <td>3</td>\n",
       "      <td>7.00</td>\n",
       "    </tr>\n",
       "  </tbody>\n",
       "</table>\n",
       "</div>"
      ],
      "text/plain": [
       "                                          Hypothesis  Reach  Impact  \\\n",
       "8  Запустить акцию, дающую скидку на товар в день...      1       9   \n",
       "0  Добавить два новых канала привлечения трафика,...      3      10   \n",
       "7  Добавить форму подписки на все основные страни...     10       7   \n",
       "6  Показать на главной странице баннеры с актуаль...      5       3   \n",
       "2  Добавить блоки рекомендаций товаров на сайт ин...      8       3   \n",
       "\n",
       "   Confidence  Efforts   ICE  \n",
       "8           9        5 16.20  \n",
       "0           8        6 13.33  \n",
       "7           8        5 11.20  \n",
       "6           8        3  8.00  \n",
       "2           7        3  7.00  "
      ]
     },
     "execution_count": 7,
     "metadata": {},
     "output_type": "execute_result"
    }
   ],
   "source": [
    "hypothesis['ICE'] = hypothesis['Impact'] * hypothesis['Confidence'] / hypothesis['Efforts']\n",
    "hypothesis.sort_values('ICE', ascending=False).head()"
   ]
  },
  {
   "cell_type": "code",
   "execution_count": 8,
   "metadata": {},
   "outputs": [
    {
     "data": {
      "image/png": "[encoded data removed]",
      "text/plain": [
       "<Figure size 432x288 with 1 Axes>"
      ]
     },
     "metadata": {
      "needs_background": "light"
     },
     "output_type": "display_data"
    }
   ],
   "source": [
    "#Дополнительно построим график\n",
    "ax = hypothesis[['Hypothesis', 'ICE']].set_index('Hypothesis').sort_values('ICE', ascending=True).plot(kind='barh')\n",
    "ax.set_xlabel('Уровень приоритета')\n",
    "ax.set_ylabel('Гипотезы')\n",
    "ax.set_title('ICE')\n",
    "plt.show()"
   ]
  },
  {
   "cell_type": "markdown",
   "metadata": {},
   "source": [
    "**После применения фреймворка ICE можно выделить две основные гипотезы: \"Запустить акцию, дающую скиду на товар в день рождения\" (гипотеза № 8), и \"Добавить два новых канала привлечения трафика, что позволит привлекать на 30% больше пользователей\" (гипотеза № 0).**"
   ]
  },
  {
   "cell_type": "markdown",
   "metadata": {},
   "source": [
    "# 5.2. Применим фреймворк RICE для приоритизации гипотез. Отсортируем их по убыванию приоритета"
   ]
  },
  {
   "cell_type": "code",
   "execution_count": 9,
   "metadata": {},
   "outputs": [
    {
     "data": {
      "text/html": [
       "<div>\n",
       "<style scoped>\n",
       "    .dataframe tbody tr th:only-of-type {\n",
       "        vertical-align: middle;\n",
       "    }\n",
       "\n",
       "    .dataframe tbody tr th {\n",
       "        vertical-align: top;\n",
       "    }\n",
       "\n",
       "    .dataframe thead th {\n",
       "        text-align: right;\n",
       "    }\n",
       "</style>\n",
       "<table border=\"1\" class=\"dataframe\">\n",
       "  <thead>\n",
       "    <tr style=\"text-align: right;\">\n",
       "      <th></th>\n",
       "      <th>Hypothesis</th>\n",
       "      <th>Reach</th>\n",
       "      <th>Impact</th>\n",
       "      <th>Confidence</th>\n",
       "      <th>Efforts</th>\n",
       "      <th>ICE</th>\n",
       "      <th>RICE</th>\n",
       "    </tr>\n",
       "  </thead>\n",
       "  <tbody>\n",
       "    <tr>\n",
       "      <td>7</td>\n",
       "      <td>Добавить форму подписки на все основные страни...</td>\n",
       "      <td>10</td>\n",
       "      <td>7</td>\n",
       "      <td>8</td>\n",
       "      <td>5</td>\n",
       "      <td>11.20</td>\n",
       "      <td>112.00</td>\n",
       "    </tr>\n",
       "    <tr>\n",
       "      <td>2</td>\n",
       "      <td>Добавить блоки рекомендаций товаров на сайт ин...</td>\n",
       "      <td>8</td>\n",
       "      <td>3</td>\n",
       "      <td>7</td>\n",
       "      <td>3</td>\n",
       "      <td>7.00</td>\n",
       "      <td>56.00</td>\n",
       "    </tr>\n",
       "    <tr>\n",
       "      <td>0</td>\n",
       "      <td>Добавить два новых канала привлечения трафика,...</td>\n",
       "      <td>3</td>\n",
       "      <td>10</td>\n",
       "      <td>8</td>\n",
       "      <td>6</td>\n",
       "      <td>13.33</td>\n",
       "      <td>40.00</td>\n",
       "    </tr>\n",
       "    <tr>\n",
       "      <td>6</td>\n",
       "      <td>Показать на главной странице баннеры с актуаль...</td>\n",
       "      <td>5</td>\n",
       "      <td>3</td>\n",
       "      <td>8</td>\n",
       "      <td>3</td>\n",
       "      <td>8.00</td>\n",
       "      <td>40.00</td>\n",
       "    </tr>\n",
       "    <tr>\n",
       "      <td>8</td>\n",
       "      <td>Запустить акцию, дающую скидку на товар в день...</td>\n",
       "      <td>1</td>\n",
       "      <td>9</td>\n",
       "      <td>9</td>\n",
       "      <td>5</td>\n",
       "      <td>16.20</td>\n",
       "      <td>16.20</td>\n",
       "    </tr>\n",
       "  </tbody>\n",
       "</table>\n",
       "</div>"
      ],
      "text/plain": [
       "                                          Hypothesis  Reach  Impact  \\\n",
       "7  Добавить форму подписки на все основные страни...     10       7   \n",
       "2  Добавить блоки рекомендаций товаров на сайт ин...      8       3   \n",
       "0  Добавить два новых канала привлечения трафика,...      3      10   \n",
       "6  Показать на главной странице баннеры с актуаль...      5       3   \n",
       "8  Запустить акцию, дающую скидку на товар в день...      1       9   \n",
       "\n",
       "   Confidence  Efforts   ICE   RICE  \n",
       "7           8        5 11.20 112.00  \n",
       "2           7        3  7.00  56.00  \n",
       "0           8        6 13.33  40.00  \n",
       "6           8        3  8.00  40.00  \n",
       "8           9        5 16.20  16.20  "
      ]
     },
     "execution_count": 9,
     "metadata": {},
     "output_type": "execute_result"
    }
   ],
   "source": [
    "hypothesis['RICE'] = hypothesis['Reach'] * hypothesis['Impact'] * hypothesis['Confidence'] / hypothesis['Efforts']\n",
    "hypothesis.sort_values('RICE', ascending=False).head()"
   ]
  },
  {
   "cell_type": "code",
   "execution_count": 10,
   "metadata": {},
   "outputs": [
    {
     "data": {
      "image/png": "[encoded data removed]",
      "text/plain": [
       "<Figure size 432x288 with 1 Axes>"
      ]
     },
     "metadata": {
      "needs_background": "light"
     },
     "output_type": "display_data"
    }
   ],
   "source": [
    "#Дополнительно построим график\n",
    "ax = hypothesis[['Hypothesis', 'RICE']].set_index('Hypothesis').sort_values('RICE', ascending=True).plot(kind='barh')\n",
    "ax.set_xlabel('Уровень приоритета')\n",
    "ax.set_ylabel('Гипотезы')\n",
    "ax.set_title('RICE')\n",
    "plt.show()"
   ]
  },
  {
   "cell_type": "markdown",
   "metadata": {},
   "source": [
    "**Ситуация сильно изменилась, гипотеза № 8 больше не в топе. В топ-3 продолжает удерживаться гипотеза № 0**"
   ]
  },
  {
   "cell_type": "markdown",
   "metadata": {},
   "source": [
    "# 5.3. Скажим, как изменилась приоритизация гипотез при применении RICE вместо ICE. Объясним, почему так произошло."
   ]
  },
  {
   "cell_type": "markdown",
   "metadata": {},
   "source": [
    "**RICE включает в себя показатель охвата аудитории, изменение в рейтинге произошли по причинам:**\n",
    "1. Вперед у нас вырвались гипотезы 7 и 2 имеющие самый высокий параметр reach.\n",
    "2. Гипотеза № 0 осталась в топ три за счет самого высокого показателя impact = 10*\n",
    "3. У остальных гипотез уровень охвата по аудитории значительно ниже."
   ]
  },
  {
   "cell_type": "markdown",
   "metadata": {},
   "source": [
    "## Часть 2. А/B тест."
   ]
  },
  {
   "cell_type": "markdown",
   "metadata": {},
   "source": [
    "**6.1. Предподготовка данных**"
   ]
  },
  {
   "cell_type": "markdown",
   "metadata": {},
   "source": [
    "**6.1.1. Таблица \"Orders\"**"
   ]
  },
  {
   "cell_type": "code",
   "execution_count": 11,
   "metadata": {},
   "outputs": [],
   "source": [
    "#Изменим формат даты\n",
    "orders['date'] = orders['date'].map(lambda x: dt.datetime.strptime(x, '%Y-%m-%d'))"
   ]
  },
  {
   "cell_type": "code",
   "execution_count": 12,
   "metadata": {},
   "outputs": [
    {
     "name": "stdout",
     "output_type": "stream",
     "text": [
      "<class 'pandas.core.frame.DataFrame'>\n",
      "RangeIndex: 1197 entries, 0 to 1196\n",
      "Data columns (total 5 columns):\n",
      "transactionId    1197 non-null int64\n",
      "visitorId        1197 non-null int64\n",
      "date             1197 non-null datetime64[ns]\n",
      "revenue          1197 non-null int64\n",
      "group            1197 non-null object\n",
      "dtypes: datetime64[ns](1), int64(3), object(1)\n",
      "memory usage: 46.9+ KB\n"
     ]
    }
   ],
   "source": [
    "orders.info()"
   ]
  },
  {
   "cell_type": "code",
   "execution_count": 13,
   "metadata": {},
   "outputs": [
    {
     "data": {
      "image/png": "[encoded data removed]",
      "text/plain": [
       "<Figure size 720x360 with 1 Axes>"
      ]
     },
     "metadata": {
      "needs_background": "light"
     },
     "output_type": "display_data"
    }
   ],
   "source": [
    "#Изучим выбросы в столбце \"revenue\"\n",
    "plt.figure(figsize=(10, 5))\n",
    "orders.boxplot('revenue')\n",
    "plt.ylim(0, 100000)\n",
    "plt.show()"
   ]
  },
  {
   "cell_type": "code",
   "execution_count": 14,
   "metadata": {},
   "outputs": [],
   "source": [
    "#Изучим выбросы отдельно по группам\n",
    "orders_a = orders[orders['group']=='A']\n",
    "orders_b = orders[orders['group']=='B']"
   ]
  },
  {
   "cell_type": "code",
   "execution_count": 15,
   "metadata": {},
   "outputs": [
    {
     "data": {
      "text/html": [
       "<div>\n",
       "<style scoped>\n",
       "    .dataframe tbody tr th:only-of-type {\n",
       "        vertical-align: middle;\n",
       "    }\n",
       "\n",
       "    .dataframe tbody tr th {\n",
       "        vertical-align: top;\n",
       "    }\n",
       "\n",
       "    .dataframe thead th {\n",
       "        text-align: right;\n",
       "    }\n",
       "</style>\n",
       "<table border=\"1\" class=\"dataframe\">\n",
       "  <thead>\n",
       "    <tr style=\"text-align: right;\">\n",
       "      <th></th>\n",
       "      <th>transactionId</th>\n",
       "      <th>visitorId</th>\n",
       "      <th>revenue</th>\n",
       "    </tr>\n",
       "  </thead>\n",
       "  <tbody>\n",
       "    <tr>\n",
       "      <td>count</td>\n",
       "      <td>557.00</td>\n",
       "      <td>557.00</td>\n",
       "      <td>557.00</td>\n",
       "    </tr>\n",
       "    <tr>\n",
       "      <td>mean</td>\n",
       "      <td>2,138,647,798.14</td>\n",
       "      <td>2,175,108,950.87</td>\n",
       "      <td>7,333.58</td>\n",
       "    </tr>\n",
       "    <tr>\n",
       "      <td>std</td>\n",
       "      <td>1,238,140,014.68</td>\n",
       "      <td>1,228,118,317.97</td>\n",
       "      <td>11,847.55</td>\n",
       "    </tr>\n",
       "    <tr>\n",
       "      <td>min</td>\n",
       "      <td>1,062,393.00</td>\n",
       "      <td>8,300,375.00</td>\n",
       "      <td>50.00</td>\n",
       "    </tr>\n",
       "    <tr>\n",
       "      <td>25%</td>\n",
       "      <td>1,157,343,706.00</td>\n",
       "      <td>1,110,543,778.00</td>\n",
       "      <td>1,188.00</td>\n",
       "    </tr>\n",
       "    <tr>\n",
       "      <td>50%</td>\n",
       "      <td>2,076,434,956.00</td>\n",
       "      <td>2,232,111,114.00</td>\n",
       "      <td>3,000.00</td>\n",
       "    </tr>\n",
       "    <tr>\n",
       "      <td>75%</td>\n",
       "      <td>3,252,142,918.00</td>\n",
       "      <td>3,160,828,523.00</td>\n",
       "      <td>8,280.00</td>\n",
       "    </tr>\n",
       "    <tr>\n",
       "      <td>max</td>\n",
       "      <td>4,293,855,558.00</td>\n",
       "      <td>4,278,982,564.00</td>\n",
       "      <td>93,940.00</td>\n",
       "    </tr>\n",
       "  </tbody>\n",
       "</table>\n",
       "</div>"
      ],
      "text/plain": [
       "         transactionId        visitorId   revenue\n",
       "count           557.00           557.00    557.00\n",
       "mean  2,138,647,798.14 2,175,108,950.87  7,333.58\n",
       "std   1,238,140,014.68 1,228,118,317.97 11,847.55\n",
       "min       1,062,393.00     8,300,375.00     50.00\n",
       "25%   1,157,343,706.00 1,110,543,778.00  1,188.00\n",
       "50%   2,076,434,956.00 2,232,111,114.00  3,000.00\n",
       "75%   3,252,142,918.00 3,160,828,523.00  8,280.00\n",
       "max   4,293,855,558.00 4,278,982,564.00 93,940.00"
      ]
     },
     "metadata": {},
     "output_type": "display_data"
    },
    {
     "data": {
      "text/html": [
       "<div>\n",
       "<style scoped>\n",
       "    .dataframe tbody tr th:only-of-type {\n",
       "        vertical-align: middle;\n",
       "    }\n",
       "\n",
       "    .dataframe tbody tr th {\n",
       "        vertical-align: top;\n",
       "    }\n",
       "\n",
       "    .dataframe thead th {\n",
       "        text-align: right;\n",
       "    }\n",
       "</style>\n",
       "<table border=\"1\" class=\"dataframe\">\n",
       "  <thead>\n",
       "    <tr style=\"text-align: right;\">\n",
       "      <th></th>\n",
       "      <th>transactionId</th>\n",
       "      <th>visitorId</th>\n",
       "      <th>revenue</th>\n",
       "    </tr>\n",
       "  </thead>\n",
       "  <tbody>\n",
       "    <tr>\n",
       "      <td>count</td>\n",
       "      <td>640.00</td>\n",
       "      <td>640.00</td>\n",
       "      <td>640.00</td>\n",
       "    </tr>\n",
       "    <tr>\n",
       "      <td>mean</td>\n",
       "      <td>2,170,393,710.80</td>\n",
       "      <td>2,157,997,821.34</td>\n",
       "      <td>9,230.88</td>\n",
       "    </tr>\n",
       "    <tr>\n",
       "      <td>std</td>\n",
       "      <td>1,221,926,749.51</td>\n",
       "      <td>1,243,750,260.43</td>\n",
       "      <td>52,449.77</td>\n",
       "    </tr>\n",
       "    <tr>\n",
       "      <td>min</td>\n",
       "      <td>4,919,758.00</td>\n",
       "      <td>5,114,589.00</td>\n",
       "      <td>50.00</td>\n",
       "    </tr>\n",
       "    <tr>\n",
       "      <td>25%</td>\n",
       "      <td>1,171,414,746.75</td>\n",
       "      <td>1,115,858,045.25</td>\n",
       "      <td>1,312.50</td>\n",
       "    </tr>\n",
       "    <tr>\n",
       "      <td>50%</td>\n",
       "      <td>2,215,003,285.00</td>\n",
       "      <td>2,183,398,384.50</td>\n",
       "      <td>2,965.00</td>\n",
       "    </tr>\n",
       "    <tr>\n",
       "      <td>75%</td>\n",
       "      <td>3,228,031,572.75</td>\n",
       "      <td>3,185,798,028.50</td>\n",
       "      <td>8,355.25</td>\n",
       "    </tr>\n",
       "    <tr>\n",
       "      <td>max</td>\n",
       "      <td>4,261,512,099.00</td>\n",
       "      <td>4,283,872,382.00</td>\n",
       "      <td>1,294,500.00</td>\n",
       "    </tr>\n",
       "  </tbody>\n",
       "</table>\n",
       "</div>"
      ],
      "text/plain": [
       "         transactionId        visitorId      revenue\n",
       "count           640.00           640.00       640.00\n",
       "mean  2,170,393,710.80 2,157,997,821.34     9,230.88\n",
       "std   1,221,926,749.51 1,243,750,260.43    52,449.77\n",
       "min       4,919,758.00     5,114,589.00        50.00\n",
       "25%   1,171,414,746.75 1,115,858,045.25     1,312.50\n",
       "50%   2,215,003,285.00 2,183,398,384.50     2,965.00\n",
       "75%   3,228,031,572.75 3,185,798,028.50     8,355.25\n",
       "max   4,261,512,099.00 4,283,872,382.00 1,294,500.00"
      ]
     },
     "metadata": {},
     "output_type": "display_data"
    }
   ],
   "source": [
    "display(orders_a.describe())\n",
    "display(orders_b.describe())"
   ]
  },
  {
   "cell_type": "code",
   "execution_count": 16,
   "metadata": {},
   "outputs": [
    {
     "data": {
      "text/plain": [
       "Text(0.5, 0, 'Выручка')"
      ]
     },
     "execution_count": 16,
     "metadata": {},
     "output_type": "execute_result"
    },
    {
     "data": {
      "image/png": "[encoded data removed]",
      "text/plain": [
       "<Figure size 720x360 with 1 Axes>"
      ]
     },
     "metadata": {
      "needs_background": "light"
     },
     "output_type": "display_data"
    }
   ],
   "source": [
    "#Дополнительно построим график для группы А\n",
    "plt.figure(figsize=(10, 5))\n",
    "plt.style.use('seaborn-pastel')\n",
    "orders_a['revenue'].plot(kind='hist', ec='black', bins=50);\n",
    "plt.title('Разброс выручки в группе A')\n",
    "plt.ylabel('Частота встречаемого значения')\n",
    "plt.xlabel('Выручка')"
   ]
  },
  {
   "cell_type": "code",
   "execution_count": 17,
   "metadata": {},
   "outputs": [
    {
     "data": {
      "text/plain": [
       "Text(0.5, 0, 'Выручка')"
      ]
     },
     "execution_count": 17,
     "metadata": {},
     "output_type": "execute_result"
    },
    {
     "data": {
      "image/png": "[encoded data removed]",
      "text/plain": [
       "<Figure size 720x360 with 1 Axes>"
      ]
     },
     "metadata": {
      "needs_background": "light"
     },
     "output_type": "display_data"
    }
   ],
   "source": [
    "#Дополнительно построим график для группы B\n",
    "plt.figure(figsize=(10, 5))\n",
    "plt.style.use('seaborn-pastel')\n",
    "orders_b['revenue'].plot(kind='hist', ec='black', bins=50);\n",
    "plt.title('Разброс выручки в группе B')\n",
    "plt.ylabel('Частота встречаемого значения')\n",
    "plt.xlabel('Выручка')"
   ]
  },
  {
   "cell_type": "markdown",
   "metadata": {},
   "source": [
    "1. Мы изменили формат даты.\n",
    "2. Выяснели, что распределение показателей группы А – имеет более широкий диапазон.\n",
    "3. Установили, что в группе B имеется выручка с аномально большим значением.\n"
   ]
  },
  {
   "cell_type": "markdown",
   "metadata": {},
   "source": [
    "**6.1.2. Таблица \"visitors\"**"
   ]
  },
  {
   "cell_type": "code",
   "execution_count": 18,
   "metadata": {},
   "outputs": [],
   "source": [
    "#Изменим формат даты\n",
    "visitors['date'] = visitors['date'].map(lambda x: dt.datetime.strptime(x, '%Y-%m-%d'))"
   ]
  },
  {
   "cell_type": "code",
   "execution_count": 19,
   "metadata": {},
   "outputs": [
    {
     "name": "stdout",
     "output_type": "stream",
     "text": [
      "<class 'pandas.core.frame.DataFrame'>\n",
      "RangeIndex: 62 entries, 0 to 61\n",
      "Data columns (total 3 columns):\n",
      "date        62 non-null datetime64[ns]\n",
      "group       62 non-null object\n",
      "visitors    62 non-null int64\n",
      "dtypes: datetime64[ns](1), int64(1), object(1)\n",
      "memory usage: 1.6+ KB\n"
     ]
    }
   ],
   "source": [
    "visitors.info()"
   ]
  },
  {
   "cell_type": "markdown",
   "metadata": {},
   "source": [
    "1. Формат даты изменен. Других проблем с этой таблицой не было."
   ]
  },
  {
   "cell_type": "markdown",
   "metadata": {},
   "source": [
    "# 6.2. Построим график кумулятивной выручки по группам. Сделаем выводы и предположения."
   ]
  },
  {
   "cell_type": "code",
   "execution_count": 20,
   "metadata": {},
   "outputs": [
    {
     "name": "stdout",
     "output_type": "stream",
     "text": [
      "<class 'pandas.core.frame.DataFrame'>\n",
      "RangeIndex: 1197 entries, 0 to 1196\n",
      "Data columns (total 5 columns):\n",
      "transactionId    1197 non-null int64\n",
      "visitorId        1197 non-null int64\n",
      "date             1197 non-null datetime64[ns]\n",
      "revenue          1197 non-null int64\n",
      "group            1197 non-null object\n",
      "dtypes: datetime64[ns](1), int64(3), object(1)\n",
      "memory usage: 46.9+ KB\n"
     ]
    }
   ],
   "source": [
    "orders.info()"
   ]
  },
  {
   "cell_type": "markdown",
   "metadata": {},
   "source": [
    "**Функция для коммулятивного сложения**"
   ]
  },
  {
   "cell_type": "code",
   "execution_count": 21,
   "metadata": {},
   "outputs": [
    {
     "data": {
      "text/html": [
       "<div>\n",
       "<style scoped>\n",
       "    .dataframe tbody tr th:only-of-type {\n",
       "        vertical-align: middle;\n",
       "    }\n",
       "\n",
       "    .dataframe tbody tr th {\n",
       "        vertical-align: top;\n",
       "    }\n",
       "\n",
       "    .dataframe thead th {\n",
       "        text-align: right;\n",
       "    }\n",
       "</style>\n",
       "<table border=\"1\" class=\"dataframe\">\n",
       "  <thead>\n",
       "    <tr style=\"text-align: right;\">\n",
       "      <th></th>\n",
       "      <th>group</th>\n",
       "      <th>date</th>\n",
       "      <th>revenue</th>\n",
       "      <th>orders_sum</th>\n",
       "      <th>buyers_sum</th>\n",
       "    </tr>\n",
       "  </thead>\n",
       "  <tbody>\n",
       "    <tr>\n",
       "      <td>0</td>\n",
       "      <td>A</td>\n",
       "      <td>2019-08-01</td>\n",
       "      <td>148579</td>\n",
       "      <td>24</td>\n",
       "      <td>20</td>\n",
       "    </tr>\n",
       "    <tr>\n",
       "      <td>1</td>\n",
       "      <td>B</td>\n",
       "      <td>2019-08-01</td>\n",
       "      <td>101217</td>\n",
       "      <td>21</td>\n",
       "      <td>20</td>\n",
       "    </tr>\n",
       "    <tr>\n",
       "      <td>2</td>\n",
       "      <td>A</td>\n",
       "      <td>2019-08-02</td>\n",
       "      <td>93822</td>\n",
       "      <td>20</td>\n",
       "      <td>19</td>\n",
       "    </tr>\n",
       "    <tr>\n",
       "      <td>3</td>\n",
       "      <td>B</td>\n",
       "      <td>2019-08-02</td>\n",
       "      <td>165531</td>\n",
       "      <td>24</td>\n",
       "      <td>23</td>\n",
       "    </tr>\n",
       "    <tr>\n",
       "      <td>4</td>\n",
       "      <td>A</td>\n",
       "      <td>2019-08-03</td>\n",
       "      <td>112473</td>\n",
       "      <td>24</td>\n",
       "      <td>24</td>\n",
       "    </tr>\n",
       "  </tbody>\n",
       "</table>\n",
       "</div>"
      ],
      "text/plain": [
       "  group       date  revenue  orders_sum  buyers_sum\n",
       "0     A 2019-08-01   148579          24          20\n",
       "1     B 2019-08-01   101217          21          20\n",
       "2     A 2019-08-02    93822          20          19\n",
       "3     B 2019-08-02   165531          24          23\n",
       "4     A 2019-08-03   112473          24          24"
      ]
     },
     "metadata": {},
     "output_type": "display_data"
    },
    {
     "data": {
      "text/html": [
       "<div>\n",
       "<style scoped>\n",
       "    .dataframe tbody tr th:only-of-type {\n",
       "        vertical-align: middle;\n",
       "    }\n",
       "\n",
       "    .dataframe tbody tr th {\n",
       "        vertical-align: top;\n",
       "    }\n",
       "\n",
       "    .dataframe thead th {\n",
       "        text-align: right;\n",
       "    }\n",
       "</style>\n",
       "<table border=\"1\" class=\"dataframe\">\n",
       "  <thead>\n",
       "    <tr style=\"text-align: right;\">\n",
       "      <th></th>\n",
       "      <th>index</th>\n",
       "      <th>group</th>\n",
       "      <th>date</th>\n",
       "      <th>revenue</th>\n",
       "      <th>orders_sum</th>\n",
       "      <th>buyers_sum</th>\n",
       "      <th>revenue_cumsum</th>\n",
       "    </tr>\n",
       "  </thead>\n",
       "  <tbody>\n",
       "    <tr>\n",
       "      <td>0</td>\n",
       "      <td>0</td>\n",
       "      <td>A</td>\n",
       "      <td>2019-08-01</td>\n",
       "      <td>148579</td>\n",
       "      <td>24</td>\n",
       "      <td>20</td>\n",
       "      <td>148579</td>\n",
       "    </tr>\n",
       "    <tr>\n",
       "      <td>1</td>\n",
       "      <td>2</td>\n",
       "      <td>A</td>\n",
       "      <td>2019-08-02</td>\n",
       "      <td>93822</td>\n",
       "      <td>20</td>\n",
       "      <td>19</td>\n",
       "      <td>242401</td>\n",
       "    </tr>\n",
       "    <tr>\n",
       "      <td>2</td>\n",
       "      <td>4</td>\n",
       "      <td>A</td>\n",
       "      <td>2019-08-03</td>\n",
       "      <td>112473</td>\n",
       "      <td>24</td>\n",
       "      <td>24</td>\n",
       "      <td>354874</td>\n",
       "    </tr>\n",
       "    <tr>\n",
       "      <td>3</td>\n",
       "      <td>6</td>\n",
       "      <td>A</td>\n",
       "      <td>2019-08-04</td>\n",
       "      <td>70825</td>\n",
       "      <td>16</td>\n",
       "      <td>15</td>\n",
       "      <td>425699</td>\n",
       "    </tr>\n",
       "    <tr>\n",
       "      <td>4</td>\n",
       "      <td>8</td>\n",
       "      <td>A</td>\n",
       "      <td>2019-08-05</td>\n",
       "      <td>124218</td>\n",
       "      <td>25</td>\n",
       "      <td>25</td>\n",
       "      <td>549917</td>\n",
       "    </tr>\n",
       "  </tbody>\n",
       "</table>\n",
       "</div>"
      ],
      "text/plain": [
       "   index group       date  revenue  orders_sum  buyers_sum  revenue_cumsum\n",
       "0      0     A 2019-08-01   148579          24          20          148579\n",
       "1      2     A 2019-08-02    93822          20          19          242401\n",
       "2      4     A 2019-08-03   112473          24          24          354874\n",
       "3      6     A 2019-08-04    70825          16          15          425699\n",
       "4      8     A 2019-08-05   124218          25          25          549917"
      ]
     },
     "metadata": {},
     "output_type": "display_data"
    },
    {
     "data": {
      "text/html": [
       "<div>\n",
       "<style scoped>\n",
       "    .dataframe tbody tr th:only-of-type {\n",
       "        vertical-align: middle;\n",
       "    }\n",
       "\n",
       "    .dataframe tbody tr th {\n",
       "        vertical-align: top;\n",
       "    }\n",
       "\n",
       "    .dataframe thead th {\n",
       "        text-align: right;\n",
       "    }\n",
       "</style>\n",
       "<table border=\"1\" class=\"dataframe\">\n",
       "  <thead>\n",
       "    <tr style=\"text-align: right;\">\n",
       "      <th></th>\n",
       "      <th>index</th>\n",
       "      <th>group</th>\n",
       "      <th>date</th>\n",
       "      <th>revenue</th>\n",
       "      <th>orders_sum</th>\n",
       "      <th>buyers_sum</th>\n",
       "      <th>revenue_cumsum</th>\n",
       "    </tr>\n",
       "  </thead>\n",
       "  <tbody>\n",
       "    <tr>\n",
       "      <td>0</td>\n",
       "      <td>1</td>\n",
       "      <td>B</td>\n",
       "      <td>2019-08-01</td>\n",
       "      <td>101217</td>\n",
       "      <td>21</td>\n",
       "      <td>20</td>\n",
       "      <td>101217</td>\n",
       "    </tr>\n",
       "    <tr>\n",
       "      <td>1</td>\n",
       "      <td>3</td>\n",
       "      <td>B</td>\n",
       "      <td>2019-08-02</td>\n",
       "      <td>165531</td>\n",
       "      <td>24</td>\n",
       "      <td>23</td>\n",
       "      <td>266748</td>\n",
       "    </tr>\n",
       "    <tr>\n",
       "      <td>2</td>\n",
       "      <td>5</td>\n",
       "      <td>B</td>\n",
       "      <td>2019-08-03</td>\n",
       "      <td>114248</td>\n",
       "      <td>16</td>\n",
       "      <td>16</td>\n",
       "      <td>380996</td>\n",
       "    </tr>\n",
       "    <tr>\n",
       "      <td>3</td>\n",
       "      <td>7</td>\n",
       "      <td>B</td>\n",
       "      <td>2019-08-04</td>\n",
       "      <td>108571</td>\n",
       "      <td>17</td>\n",
       "      <td>16</td>\n",
       "      <td>489567</td>\n",
       "    </tr>\n",
       "    <tr>\n",
       "      <td>4</td>\n",
       "      <td>9</td>\n",
       "      <td>B</td>\n",
       "      <td>2019-08-05</td>\n",
       "      <td>92428</td>\n",
       "      <td>23</td>\n",
       "      <td>23</td>\n",
       "      <td>581995</td>\n",
       "    </tr>\n",
       "  </tbody>\n",
       "</table>\n",
       "</div>"
      ],
      "text/plain": [
       "   index group       date  revenue  orders_sum  buyers_sum  revenue_cumsum\n",
       "0      1     B 2019-08-01   101217          21          20          101217\n",
       "1      3     B 2019-08-02   165531          24          23          266748\n",
       "2      5     B 2019-08-03   114248          16          16          380996\n",
       "3      7     B 2019-08-04   108571          17          16          489567\n",
       "4      9     B 2019-08-05    92428          23          23          581995"
      ]
     },
     "metadata": {},
     "output_type": "display_data"
    }
   ],
   "source": [
    "# выводим сводную таблицу с группой датой и суммой выручки\n",
    "revenue_date_a_b =(orders.groupby(['group', 'date']).agg({'revenue':'sum', 'transactionId':'nunique', 'visitorId':'nunique' })\n",
    "                   .sort_values('date').reset_index())\n",
    "revenue_date_a_b.columns = ['group','date', 'revenue', 'orders_sum', 'buyers_sum']\n",
    "# оставляем только группу А\n",
    "revenue_date_a = revenue_date_a_b[revenue_date_a_b['group'] == 'A'].reset_index()\n",
    "# фукцией .cumsum() коммулятивно складываем выручку\n",
    "revenue_date_a['revenue_cumsum'] = revenue_date_a['revenue'].cumsum()\n",
    "revenue_date_b = revenue_date_a_b[revenue_date_a_b['group'] == 'B'].reset_index()\n",
    "revenue_date_b['revenue_cumsum'] = revenue_date_b['revenue'].cumsum()\n",
    "display(revenue_date_a_b.head())\n",
    "display(revenue_date_a.head())\n",
    "\n",
    "display(revenue_date_b.head())"
   ]
  },
  {
   "cell_type": "code",
   "execution_count": 22,
   "metadata": {},
   "outputs": [
    {
     "data": {
      "image/png": "[encoded data removed]",
      "text/plain": [
       "<Figure size 1008x504 with 1 Axes>"
      ]
     },
     "metadata": {
      "needs_background": "light"
     },
     "output_type": "display_data"
    }
   ],
   "source": [
    "#Построим график\n",
    "plt.figure(figsize=(14, 7))\n",
    "plt.plot(revenue_date_a['date'], revenue_date_a['revenue_cumsum'], '-r');\n",
    "plt.plot(revenue_date_b['date'], revenue_date_b['revenue_cumsum'], '-g');\n",
    "plt.plot(revenue_date_a['date'], revenue_date_a['revenue'], '-b');\n",
    "plt.plot(revenue_date_b['date'], revenue_date_b['revenue'], '-y');\n",
    "plt.title('График кумулятивной, или накапливаемой и обычной выручкой групп А и Б', fontsize=17, color='blue')\n",
    "plt.xlabel('Даты проведения АБ теста',fontsize=12, color='red')\n",
    "plt.ylabel('Выручка',fontsize=12, color='black')\n",
    "plt.legend([ 'Кумулятивная выручка группа А', 'Кумулятивная выручка группа Б', 'выручка группа А', 'выручка группа Б'])\n",
    "plt.grid(True)\n",
    "plt.show()"
   ]
  },
  {
   "cell_type": "code",
   "execution_count": 23,
   "metadata": {},
   "outputs": [
    {
     "data": {
      "text/plain": [
       "1429920"
      ]
     },
     "execution_count": 23,
     "metadata": {},
     "output_type": "execute_result"
    }
   ],
   "source": [
    "#Изучим выброс в группе B\n",
    "revenue_date_b['revenue'].max()"
   ]
  },
  {
   "cell_type": "markdown",
   "metadata": {},
   "source": [
    "1. Имеется линейный график роста по комулятивной выручке.\n",
    "2. Из-за выброса в группе Б в одну из дат, у нас имеется резкий скачок на графике."
   ]
  },
  {
   "cell_type": "markdown",
   "metadata": {},
   "source": [
    "# 6.3. Построим график кумулятивного среднего чека по группам. Сделаем выводы и предположения."
   ]
  },
  {
   "cell_type": "code",
   "execution_count": 24,
   "metadata": {},
   "outputs": [
    {
     "data": {
      "text/html": [
       "<div>\n",
       "<style scoped>\n",
       "    .dataframe tbody tr th:only-of-type {\n",
       "        vertical-align: middle;\n",
       "    }\n",
       "\n",
       "    .dataframe tbody tr th {\n",
       "        vertical-align: top;\n",
       "    }\n",
       "\n",
       "    .dataframe thead th {\n",
       "        text-align: right;\n",
       "    }\n",
       "</style>\n",
       "<table border=\"1\" class=\"dataframe\">\n",
       "  <thead>\n",
       "    <tr style=\"text-align: right;\">\n",
       "      <th></th>\n",
       "      <th>index</th>\n",
       "      <th>group</th>\n",
       "      <th>date</th>\n",
       "      <th>revenue</th>\n",
       "      <th>orders_sum</th>\n",
       "      <th>buyers_sum</th>\n",
       "      <th>revenue_cumsum</th>\n",
       "      <th>orders_cumsum</th>\n",
       "    </tr>\n",
       "  </thead>\n",
       "  <tbody>\n",
       "    <tr>\n",
       "      <td>0</td>\n",
       "      <td>0</td>\n",
       "      <td>A</td>\n",
       "      <td>2019-08-01</td>\n",
       "      <td>148579</td>\n",
       "      <td>24</td>\n",
       "      <td>20</td>\n",
       "      <td>148579</td>\n",
       "      <td>24</td>\n",
       "    </tr>\n",
       "    <tr>\n",
       "      <td>1</td>\n",
       "      <td>2</td>\n",
       "      <td>A</td>\n",
       "      <td>2019-08-02</td>\n",
       "      <td>93822</td>\n",
       "      <td>20</td>\n",
       "      <td>19</td>\n",
       "      <td>242401</td>\n",
       "      <td>44</td>\n",
       "    </tr>\n",
       "    <tr>\n",
       "      <td>2</td>\n",
       "      <td>4</td>\n",
       "      <td>A</td>\n",
       "      <td>2019-08-03</td>\n",
       "      <td>112473</td>\n",
       "      <td>24</td>\n",
       "      <td>24</td>\n",
       "      <td>354874</td>\n",
       "      <td>68</td>\n",
       "    </tr>\n",
       "    <tr>\n",
       "      <td>3</td>\n",
       "      <td>6</td>\n",
       "      <td>A</td>\n",
       "      <td>2019-08-04</td>\n",
       "      <td>70825</td>\n",
       "      <td>16</td>\n",
       "      <td>15</td>\n",
       "      <td>425699</td>\n",
       "      <td>84</td>\n",
       "    </tr>\n",
       "    <tr>\n",
       "      <td>4</td>\n",
       "      <td>8</td>\n",
       "      <td>A</td>\n",
       "      <td>2019-08-05</td>\n",
       "      <td>124218</td>\n",
       "      <td>25</td>\n",
       "      <td>25</td>\n",
       "      <td>549917</td>\n",
       "      <td>109</td>\n",
       "    </tr>\n",
       "  </tbody>\n",
       "</table>\n",
       "</div>"
      ],
      "text/plain": [
       "   index group       date  revenue  orders_sum  buyers_sum  revenue_cumsum  \\\n",
       "0      0     A 2019-08-01   148579          24          20          148579   \n",
       "1      2     A 2019-08-02    93822          20          19          242401   \n",
       "2      4     A 2019-08-03   112473          24          24          354874   \n",
       "3      6     A 2019-08-04    70825          16          15          425699   \n",
       "4      8     A 2019-08-05   124218          25          25          549917   \n",
       "\n",
       "   orders_cumsum  \n",
       "0             24  \n",
       "1             44  \n",
       "2             68  \n",
       "3             84  \n",
       "4            109  "
      ]
     },
     "metadata": {},
     "output_type": "display_data"
    },
    {
     "data": {
      "text/html": [
       "<div>\n",
       "<style scoped>\n",
       "    .dataframe tbody tr th:only-of-type {\n",
       "        vertical-align: middle;\n",
       "    }\n",
       "\n",
       "    .dataframe tbody tr th {\n",
       "        vertical-align: top;\n",
       "    }\n",
       "\n",
       "    .dataframe thead th {\n",
       "        text-align: right;\n",
       "    }\n",
       "</style>\n",
       "<table border=\"1\" class=\"dataframe\">\n",
       "  <thead>\n",
       "    <tr style=\"text-align: right;\">\n",
       "      <th></th>\n",
       "      <th>index</th>\n",
       "      <th>group</th>\n",
       "      <th>date</th>\n",
       "      <th>revenue</th>\n",
       "      <th>orders_sum</th>\n",
       "      <th>buyers_sum</th>\n",
       "      <th>revenue_cumsum</th>\n",
       "      <th>orders_cumsum</th>\n",
       "    </tr>\n",
       "  </thead>\n",
       "  <tbody>\n",
       "    <tr>\n",
       "      <td>0</td>\n",
       "      <td>1</td>\n",
       "      <td>B</td>\n",
       "      <td>2019-08-01</td>\n",
       "      <td>101217</td>\n",
       "      <td>21</td>\n",
       "      <td>20</td>\n",
       "      <td>101217</td>\n",
       "      <td>21</td>\n",
       "    </tr>\n",
       "    <tr>\n",
       "      <td>1</td>\n",
       "      <td>3</td>\n",
       "      <td>B</td>\n",
       "      <td>2019-08-02</td>\n",
       "      <td>165531</td>\n",
       "      <td>24</td>\n",
       "      <td>23</td>\n",
       "      <td>266748</td>\n",
       "      <td>45</td>\n",
       "    </tr>\n",
       "    <tr>\n",
       "      <td>2</td>\n",
       "      <td>5</td>\n",
       "      <td>B</td>\n",
       "      <td>2019-08-03</td>\n",
       "      <td>114248</td>\n",
       "      <td>16</td>\n",
       "      <td>16</td>\n",
       "      <td>380996</td>\n",
       "      <td>61</td>\n",
       "    </tr>\n",
       "    <tr>\n",
       "      <td>3</td>\n",
       "      <td>7</td>\n",
       "      <td>B</td>\n",
       "      <td>2019-08-04</td>\n",
       "      <td>108571</td>\n",
       "      <td>17</td>\n",
       "      <td>16</td>\n",
       "      <td>489567</td>\n",
       "      <td>78</td>\n",
       "    </tr>\n",
       "    <tr>\n",
       "      <td>4</td>\n",
       "      <td>9</td>\n",
       "      <td>B</td>\n",
       "      <td>2019-08-05</td>\n",
       "      <td>92428</td>\n",
       "      <td>23</td>\n",
       "      <td>23</td>\n",
       "      <td>581995</td>\n",
       "      <td>101</td>\n",
       "    </tr>\n",
       "  </tbody>\n",
       "</table>\n",
       "</div>"
      ],
      "text/plain": [
       "   index group       date  revenue  orders_sum  buyers_sum  revenue_cumsum  \\\n",
       "0      1     B 2019-08-01   101217          21          20          101217   \n",
       "1      3     B 2019-08-02   165531          24          23          266748   \n",
       "2      5     B 2019-08-03   114248          16          16          380996   \n",
       "3      7     B 2019-08-04   108571          17          16          489567   \n",
       "4      9     B 2019-08-05    92428          23          23          581995   \n",
       "\n",
       "   orders_cumsum  \n",
       "0             21  \n",
       "1             45  \n",
       "2             61  \n",
       "3             78  \n",
       "4            101  "
      ]
     },
     "metadata": {},
     "output_type": "display_data"
    }
   ],
   "source": [
    "revenue_date_a['orders_cumsum'] = revenue_date_a['orders_sum'].cumsum()\n",
    "revenue_date_b['orders_cumsum'] = revenue_date_b['orders_sum'].cumsum()\n",
    "display(revenue_date_a.head())\n",
    "display(revenue_date_b.head())"
   ]
  },
  {
   "cell_type": "code",
   "execution_count": 25,
   "metadata": {},
   "outputs": [
    {
     "data": {
      "image/png": "[encoded data removed]",
      "text/plain": [
       "<Figure size 1008x504 with 1 Axes>"
      ]
     },
     "metadata": {
      "needs_background": "light"
     },
     "output_type": "display_data"
    }
   ],
   "source": [
    "plt.figure(figsize=(14, 7))\n",
    "plt.plot(revenue_date_a['date'], revenue_date_a['revenue_cumsum']/revenue_date_a['orders_cumsum'], '-r');\n",
    "plt.plot(revenue_date_b['date'], revenue_date_b['revenue_cumsum']/revenue_date_b['orders_cumsum'], '-g');\n",
    "#plt.plot(revenue_date_a['date'], revenue_date_a['revenue']/revenue_date_a['orders_sum'], '-b');\n",
    "#plt.plot(revenue_date_b['date'], revenue_date_b['revenue']/revenue_date_b['orders_sum'], '-y');\n",
    "plt.title('График кумулятивного и обычного среднего чека групп А и Б', fontsize=17, color='blue')\n",
    "plt.xlabel('Даты проведения АБ теста',fontsize=12, color='red')\n",
    "plt.ylabel('Средний чек',fontsize=12, color='red')\n",
    "plt.legend([ 'Средний чек группа А', 'Средний чек группа Б', 'Средний чек А', 'Средний чек группа Б'])\n",
    "plt.grid(True)\n",
    "plt.show()"
   ]
  },
  {
   "cell_type": "markdown",
   "metadata": {},
   "source": [
    "**Имеются сильные колебания в показателях среднего чека. Выводы делать рано, но возможно дело в выбросах**"
   ]
  },
  {
   "cell_type": "markdown",
   "metadata": {},
   "source": [
    "# 6.4. Построим график относительного изменения кумулятивного среднего чека группы B к группе A. Сделаем выводы и предположения."
   ]
  },
  {
   "cell_type": "code",
   "execution_count": 26,
   "metadata": {},
   "outputs": [
    {
     "data": {
      "image/png": "[encoded data removed]",
      "text/plain": [
       "<Figure size 1008x504 with 1 Axes>"
      ]
     },
     "metadata": {
      "needs_background": "light"
     },
     "output_type": "display_data"
    }
   ],
   "source": [
    "plt.figure(figsize=(14, 7))\n",
    "plt.plot(revenue_date_b['date'], ((revenue_date_b['revenue_cumsum']/revenue_date_b['orders_cumsum'])\n",
    "                                   /(revenue_date_a['revenue_cumsum']/revenue_date_a['orders_cumsum'])-1), '-r');\n",
    "plt.title('График относительного изменения кумулятивного среднего чека группы B к группе A', fontsize=17, color='blue')\n",
    "plt.xlabel('Даты проведения АБ теста',fontsize=12, color='red')\n",
    "plt.ylabel('Относительное изменения',fontsize=12, color='red')\n",
    "plt.legend([ 'Относительное изменения кумулятивного среднего чека группы B к группе A', 'Средний чек группа Б'])\n",
    "plt.axhline(y=0, color='black', linestyle='--')\n",
    "plt.grid(True)\n",
    "plt.show()"
   ]
  },
  {
   "cell_type": "markdown",
   "metadata": {},
   "source": [
    "**Колебания, как были, так и остались. Возможная причина остается прежней - вбросы.**"
   ]
  },
  {
   "cell_type": "markdown",
   "metadata": {},
   "source": [
    "# 6.5.  Построим график кумулятивной конверсии по группам. Сделаем выводы и предположения."
   ]
  },
  {
   "cell_type": "code",
   "execution_count": 27,
   "metadata": {},
   "outputs": [],
   "source": [
    "#отсортируем по группам\n",
    "visitors_a = visitors[visitors['group'] == 'A']\n",
    "visitors_b = visitors[visitors['group'] == 'B']"
   ]
  },
  {
   "cell_type": "code",
   "execution_count": 28,
   "metadata": {},
   "outputs": [
    {
     "data": {
      "text/html": [
       "<div>\n",
       "<style scoped>\n",
       "    .dataframe tbody tr th:only-of-type {\n",
       "        vertical-align: middle;\n",
       "    }\n",
       "\n",
       "    .dataframe tbody tr th {\n",
       "        vertical-align: top;\n",
       "    }\n",
       "\n",
       "    .dataframe thead th {\n",
       "        text-align: right;\n",
       "    }\n",
       "</style>\n",
       "<table border=\"1\" class=\"dataframe\">\n",
       "  <thead>\n",
       "    <tr style=\"text-align: right;\">\n",
       "      <th></th>\n",
       "      <th>index</th>\n",
       "      <th>group</th>\n",
       "      <th>date</th>\n",
       "      <th>revenue</th>\n",
       "      <th>orders_sum</th>\n",
       "      <th>buyers_sum</th>\n",
       "      <th>revenue_cumsum</th>\n",
       "      <th>orders_cumsum</th>\n",
       "      <th>visitors</th>\n",
       "    </tr>\n",
       "  </thead>\n",
       "  <tbody>\n",
       "    <tr>\n",
       "      <td>0</td>\n",
       "      <td>0</td>\n",
       "      <td>A</td>\n",
       "      <td>2019-08-01</td>\n",
       "      <td>148579</td>\n",
       "      <td>24</td>\n",
       "      <td>20</td>\n",
       "      <td>148579</td>\n",
       "      <td>24</td>\n",
       "      <td>719</td>\n",
       "    </tr>\n",
       "    <tr>\n",
       "      <td>1</td>\n",
       "      <td>2</td>\n",
       "      <td>A</td>\n",
       "      <td>2019-08-02</td>\n",
       "      <td>93822</td>\n",
       "      <td>20</td>\n",
       "      <td>19</td>\n",
       "      <td>242401</td>\n",
       "      <td>44</td>\n",
       "      <td>619</td>\n",
       "    </tr>\n",
       "    <tr>\n",
       "      <td>2</td>\n",
       "      <td>4</td>\n",
       "      <td>A</td>\n",
       "      <td>2019-08-03</td>\n",
       "      <td>112473</td>\n",
       "      <td>24</td>\n",
       "      <td>24</td>\n",
       "      <td>354874</td>\n",
       "      <td>68</td>\n",
       "      <td>507</td>\n",
       "    </tr>\n",
       "    <tr>\n",
       "      <td>3</td>\n",
       "      <td>6</td>\n",
       "      <td>A</td>\n",
       "      <td>2019-08-04</td>\n",
       "      <td>70825</td>\n",
       "      <td>16</td>\n",
       "      <td>15</td>\n",
       "      <td>425699</td>\n",
       "      <td>84</td>\n",
       "      <td>717</td>\n",
       "    </tr>\n",
       "    <tr>\n",
       "      <td>4</td>\n",
       "      <td>8</td>\n",
       "      <td>A</td>\n",
       "      <td>2019-08-05</td>\n",
       "      <td>124218</td>\n",
       "      <td>25</td>\n",
       "      <td>25</td>\n",
       "      <td>549917</td>\n",
       "      <td>109</td>\n",
       "      <td>756</td>\n",
       "    </tr>\n",
       "  </tbody>\n",
       "</table>\n",
       "</div>"
      ],
      "text/plain": [
       "   index group       date  revenue  orders_sum  buyers_sum  revenue_cumsum  \\\n",
       "0      0     A 2019-08-01   148579          24          20          148579   \n",
       "1      2     A 2019-08-02    93822          20          19          242401   \n",
       "2      4     A 2019-08-03   112473          24          24          354874   \n",
       "3      6     A 2019-08-04    70825          16          15          425699   \n",
       "4      8     A 2019-08-05   124218          25          25          549917   \n",
       "\n",
       "   orders_cumsum  visitors  \n",
       "0             24       719  \n",
       "1             44       619  \n",
       "2             68       507  \n",
       "3             84       717  \n",
       "4            109       756  "
      ]
     },
     "metadata": {},
     "output_type": "display_data"
    },
    {
     "data": {
      "text/html": [
       "<div>\n",
       "<style scoped>\n",
       "    .dataframe tbody tr th:only-of-type {\n",
       "        vertical-align: middle;\n",
       "    }\n",
       "\n",
       "    .dataframe tbody tr th {\n",
       "        vertical-align: top;\n",
       "    }\n",
       "\n",
       "    .dataframe thead th {\n",
       "        text-align: right;\n",
       "    }\n",
       "</style>\n",
       "<table border=\"1\" class=\"dataframe\">\n",
       "  <thead>\n",
       "    <tr style=\"text-align: right;\">\n",
       "      <th></th>\n",
       "      <th>index</th>\n",
       "      <th>group</th>\n",
       "      <th>date</th>\n",
       "      <th>revenue</th>\n",
       "      <th>orders_sum</th>\n",
       "      <th>buyers_sum</th>\n",
       "      <th>revenue_cumsum</th>\n",
       "      <th>orders_cumsum</th>\n",
       "      <th>visitors</th>\n",
       "    </tr>\n",
       "  </thead>\n",
       "  <tbody>\n",
       "    <tr>\n",
       "      <td>0</td>\n",
       "      <td>1</td>\n",
       "      <td>B</td>\n",
       "      <td>2019-08-01</td>\n",
       "      <td>101217</td>\n",
       "      <td>21</td>\n",
       "      <td>20</td>\n",
       "      <td>101217</td>\n",
       "      <td>21</td>\n",
       "      <td>713</td>\n",
       "    </tr>\n",
       "    <tr>\n",
       "      <td>1</td>\n",
       "      <td>3</td>\n",
       "      <td>B</td>\n",
       "      <td>2019-08-02</td>\n",
       "      <td>165531</td>\n",
       "      <td>24</td>\n",
       "      <td>23</td>\n",
       "      <td>266748</td>\n",
       "      <td>45</td>\n",
       "      <td>581</td>\n",
       "    </tr>\n",
       "    <tr>\n",
       "      <td>2</td>\n",
       "      <td>5</td>\n",
       "      <td>B</td>\n",
       "      <td>2019-08-03</td>\n",
       "      <td>114248</td>\n",
       "      <td>16</td>\n",
       "      <td>16</td>\n",
       "      <td>380996</td>\n",
       "      <td>61</td>\n",
       "      <td>509</td>\n",
       "    </tr>\n",
       "    <tr>\n",
       "      <td>3</td>\n",
       "      <td>7</td>\n",
       "      <td>B</td>\n",
       "      <td>2019-08-04</td>\n",
       "      <td>108571</td>\n",
       "      <td>17</td>\n",
       "      <td>16</td>\n",
       "      <td>489567</td>\n",
       "      <td>78</td>\n",
       "      <td>770</td>\n",
       "    </tr>\n",
       "    <tr>\n",
       "      <td>4</td>\n",
       "      <td>9</td>\n",
       "      <td>B</td>\n",
       "      <td>2019-08-05</td>\n",
       "      <td>92428</td>\n",
       "      <td>23</td>\n",
       "      <td>23</td>\n",
       "      <td>581995</td>\n",
       "      <td>101</td>\n",
       "      <td>707</td>\n",
       "    </tr>\n",
       "  </tbody>\n",
       "</table>\n",
       "</div>"
      ],
      "text/plain": [
       "   index group       date  revenue  orders_sum  buyers_sum  revenue_cumsum  \\\n",
       "0      1     B 2019-08-01   101217          21          20          101217   \n",
       "1      3     B 2019-08-02   165531          24          23          266748   \n",
       "2      5     B 2019-08-03   114248          16          16          380996   \n",
       "3      7     B 2019-08-04   108571          17          16          489567   \n",
       "4      9     B 2019-08-05    92428          23          23          581995   \n",
       "\n",
       "   orders_cumsum  visitors  \n",
       "0             21       713  \n",
       "1             45       581  \n",
       "2             61       509  \n",
       "3             78       770  \n",
       "4            101       707  "
      ]
     },
     "metadata": {},
     "output_type": "display_data"
    }
   ],
   "source": [
    "#Соеденим таблицы\n",
    "revenue_date_a = revenue_date_a.merge(visitors_a, on=['date', 'group'])\n",
    "revenue_date_b = revenue_date_b.merge(visitors_b, on=['date', 'group'])\n",
    "display(revenue_date_a.head())\n",
    "display(revenue_date_b.head())"
   ]
  },
  {
   "cell_type": "code",
   "execution_count": 29,
   "metadata": {},
   "outputs": [
    {
     "data": {
      "text/html": [
       "<div>\n",
       "<style scoped>\n",
       "    .dataframe tbody tr th:only-of-type {\n",
       "        vertical-align: middle;\n",
       "    }\n",
       "\n",
       "    .dataframe tbody tr th {\n",
       "        vertical-align: top;\n",
       "    }\n",
       "\n",
       "    .dataframe thead th {\n",
       "        text-align: right;\n",
       "    }\n",
       "</style>\n",
       "<table border=\"1\" class=\"dataframe\">\n",
       "  <thead>\n",
       "    <tr style=\"text-align: right;\">\n",
       "      <th></th>\n",
       "      <th>index</th>\n",
       "      <th>group</th>\n",
       "      <th>date</th>\n",
       "      <th>revenue</th>\n",
       "      <th>orders_sum</th>\n",
       "      <th>buyers_sum</th>\n",
       "      <th>revenue_cumsum</th>\n",
       "      <th>orders_cumsum</th>\n",
       "      <th>visitors</th>\n",
       "      <th>visitors_cumsum</th>\n",
       "      <th>conversion_cumsum</th>\n",
       "    </tr>\n",
       "  </thead>\n",
       "  <tbody>\n",
       "    <tr>\n",
       "      <td>0</td>\n",
       "      <td>0</td>\n",
       "      <td>A</td>\n",
       "      <td>2019-08-01</td>\n",
       "      <td>148579</td>\n",
       "      <td>24</td>\n",
       "      <td>20</td>\n",
       "      <td>148579</td>\n",
       "      <td>24</td>\n",
       "      <td>719</td>\n",
       "      <td>719</td>\n",
       "      <td>0.03</td>\n",
       "    </tr>\n",
       "    <tr>\n",
       "      <td>1</td>\n",
       "      <td>2</td>\n",
       "      <td>A</td>\n",
       "      <td>2019-08-02</td>\n",
       "      <td>93822</td>\n",
       "      <td>20</td>\n",
       "      <td>19</td>\n",
       "      <td>242401</td>\n",
       "      <td>44</td>\n",
       "      <td>619</td>\n",
       "      <td>1338</td>\n",
       "      <td>0.03</td>\n",
       "    </tr>\n",
       "    <tr>\n",
       "      <td>2</td>\n",
       "      <td>4</td>\n",
       "      <td>A</td>\n",
       "      <td>2019-08-03</td>\n",
       "      <td>112473</td>\n",
       "      <td>24</td>\n",
       "      <td>24</td>\n",
       "      <td>354874</td>\n",
       "      <td>68</td>\n",
       "      <td>507</td>\n",
       "      <td>1845</td>\n",
       "      <td>0.04</td>\n",
       "    </tr>\n",
       "    <tr>\n",
       "      <td>3</td>\n",
       "      <td>6</td>\n",
       "      <td>A</td>\n",
       "      <td>2019-08-04</td>\n",
       "      <td>70825</td>\n",
       "      <td>16</td>\n",
       "      <td>15</td>\n",
       "      <td>425699</td>\n",
       "      <td>84</td>\n",
       "      <td>717</td>\n",
       "      <td>2562</td>\n",
       "      <td>0.03</td>\n",
       "    </tr>\n",
       "    <tr>\n",
       "      <td>4</td>\n",
       "      <td>8</td>\n",
       "      <td>A</td>\n",
       "      <td>2019-08-05</td>\n",
       "      <td>124218</td>\n",
       "      <td>25</td>\n",
       "      <td>25</td>\n",
       "      <td>549917</td>\n",
       "      <td>109</td>\n",
       "      <td>756</td>\n",
       "      <td>3318</td>\n",
       "      <td>0.03</td>\n",
       "    </tr>\n",
       "  </tbody>\n",
       "</table>\n",
       "</div>"
      ],
      "text/plain": [
       "   index group       date  revenue  orders_sum  buyers_sum  revenue_cumsum  \\\n",
       "0      0     A 2019-08-01   148579          24          20          148579   \n",
       "1      2     A 2019-08-02    93822          20          19          242401   \n",
       "2      4     A 2019-08-03   112473          24          24          354874   \n",
       "3      6     A 2019-08-04    70825          16          15          425699   \n",
       "4      8     A 2019-08-05   124218          25          25          549917   \n",
       "\n",
       "   orders_cumsum  visitors  visitors_cumsum  conversion_cumsum  \n",
       "0             24       719              719               0.03  \n",
       "1             44       619             1338               0.03  \n",
       "2             68       507             1845               0.04  \n",
       "3             84       717             2562               0.03  \n",
       "4            109       756             3318               0.03  "
      ]
     },
     "metadata": {},
     "output_type": "display_data"
    },
    {
     "data": {
      "text/html": [
       "<div>\n",
       "<style scoped>\n",
       "    .dataframe tbody tr th:only-of-type {\n",
       "        vertical-align: middle;\n",
       "    }\n",
       "\n",
       "    .dataframe tbody tr th {\n",
       "        vertical-align: top;\n",
       "    }\n",
       "\n",
       "    .dataframe thead th {\n",
       "        text-align: right;\n",
       "    }\n",
       "</style>\n",
       "<table border=\"1\" class=\"dataframe\">\n",
       "  <thead>\n",
       "    <tr style=\"text-align: right;\">\n",
       "      <th></th>\n",
       "      <th>index</th>\n",
       "      <th>group</th>\n",
       "      <th>date</th>\n",
       "      <th>revenue</th>\n",
       "      <th>orders_sum</th>\n",
       "      <th>buyers_sum</th>\n",
       "      <th>revenue_cumsum</th>\n",
       "      <th>orders_cumsum</th>\n",
       "      <th>visitors</th>\n",
       "      <th>visitors_cumsum</th>\n",
       "      <th>conversion_cumsum</th>\n",
       "    </tr>\n",
       "  </thead>\n",
       "  <tbody>\n",
       "    <tr>\n",
       "      <td>0</td>\n",
       "      <td>1</td>\n",
       "      <td>B</td>\n",
       "      <td>2019-08-01</td>\n",
       "      <td>101217</td>\n",
       "      <td>21</td>\n",
       "      <td>20</td>\n",
       "      <td>101217</td>\n",
       "      <td>21</td>\n",
       "      <td>713</td>\n",
       "      <td>713</td>\n",
       "      <td>0.03</td>\n",
       "    </tr>\n",
       "    <tr>\n",
       "      <td>1</td>\n",
       "      <td>3</td>\n",
       "      <td>B</td>\n",
       "      <td>2019-08-02</td>\n",
       "      <td>165531</td>\n",
       "      <td>24</td>\n",
       "      <td>23</td>\n",
       "      <td>266748</td>\n",
       "      <td>45</td>\n",
       "      <td>581</td>\n",
       "      <td>1294</td>\n",
       "      <td>0.03</td>\n",
       "    </tr>\n",
       "    <tr>\n",
       "      <td>2</td>\n",
       "      <td>5</td>\n",
       "      <td>B</td>\n",
       "      <td>2019-08-03</td>\n",
       "      <td>114248</td>\n",
       "      <td>16</td>\n",
       "      <td>16</td>\n",
       "      <td>380996</td>\n",
       "      <td>61</td>\n",
       "      <td>509</td>\n",
       "      <td>1803</td>\n",
       "      <td>0.03</td>\n",
       "    </tr>\n",
       "    <tr>\n",
       "      <td>3</td>\n",
       "      <td>7</td>\n",
       "      <td>B</td>\n",
       "      <td>2019-08-04</td>\n",
       "      <td>108571</td>\n",
       "      <td>17</td>\n",
       "      <td>16</td>\n",
       "      <td>489567</td>\n",
       "      <td>78</td>\n",
       "      <td>770</td>\n",
       "      <td>2573</td>\n",
       "      <td>0.03</td>\n",
       "    </tr>\n",
       "    <tr>\n",
       "      <td>4</td>\n",
       "      <td>9</td>\n",
       "      <td>B</td>\n",
       "      <td>2019-08-05</td>\n",
       "      <td>92428</td>\n",
       "      <td>23</td>\n",
       "      <td>23</td>\n",
       "      <td>581995</td>\n",
       "      <td>101</td>\n",
       "      <td>707</td>\n",
       "      <td>3280</td>\n",
       "      <td>0.03</td>\n",
       "    </tr>\n",
       "  </tbody>\n",
       "</table>\n",
       "</div>"
      ],
      "text/plain": [
       "   index group       date  revenue  orders_sum  buyers_sum  revenue_cumsum  \\\n",
       "0      1     B 2019-08-01   101217          21          20          101217   \n",
       "1      3     B 2019-08-02   165531          24          23          266748   \n",
       "2      5     B 2019-08-03   114248          16          16          380996   \n",
       "3      7     B 2019-08-04   108571          17          16          489567   \n",
       "4      9     B 2019-08-05    92428          23          23          581995   \n",
       "\n",
       "   orders_cumsum  visitors  visitors_cumsum  conversion_cumsum  \n",
       "0             21       713              713               0.03  \n",
       "1             45       581             1294               0.03  \n",
       "2             61       509             1803               0.03  \n",
       "3             78       770             2573               0.03  \n",
       "4            101       707             3280               0.03  "
      ]
     },
     "metadata": {},
     "output_type": "display_data"
    }
   ],
   "source": [
    "#Считаем конверсию\n",
    "revenue_date_a['visitors_cumsum'] = revenue_date_a['visitors'].cumsum()\n",
    "revenue_date_a['conversion_cumsum'] = revenue_date_a['orders_cumsum']/revenue_date_a['visitors_cumsum']\n",
    "\n",
    "revenue_date_b['visitors_cumsum'] = revenue_date_b['visitors'].cumsum()\n",
    "revenue_date_b['conversion_cumsum'] = revenue_date_b['orders_cumsum']/revenue_date_a['visitors_cumsum']\n",
    "display(revenue_date_a.head())\n",
    "display(revenue_date_b.head())"
   ]
  },
  {
   "cell_type": "code",
   "execution_count": 30,
   "metadata": {},
   "outputs": [
    {
     "data": {
      "image/png": "[encoded data removed]",
      "text/plain": [
       "<Figure size 1008x504 with 1 Axes>"
      ]
     },
     "metadata": {
      "needs_background": "light"
     },
     "output_type": "display_data"
    }
   ],
   "source": [
    "#Строим график\n",
    "plt.figure(figsize=(14, 7))\n",
    "plt.plot(revenue_date_a['date'], revenue_date_a['conversion_cumsum'], '-r');\n",
    "plt.plot(revenue_date_b['date'], revenue_date_b['conversion_cumsum'], '-g');\n",
    "plt.title('График  кумулятивной конверсии по группам', fontsize=17, color='blue')\n",
    "plt.xlabel('Даты проведения АБ теста',fontsize=12, color='red')\n",
    "plt.ylabel('Конверсия',fontsize=12, color='red')\n",
    "plt.legend([ 'Конверсия группа А', 'Конверсия чек группа Б'])\n",
    "\n",
    "plt.axis([\"2019-08-01\", '2019-09-01', 0, 0.05]) \n",
    "plt.grid(True)\n",
    "plt.show()"
   ]
  },
  {
   "cell_type": "markdown",
   "metadata": {},
   "source": [
    "**Конверсия группы А в долгосрочной перспективе проигрывает группе B**"
   ]
  },
  {
   "cell_type": "markdown",
   "metadata": {},
   "source": [
    "# 6.6.  Построим график относительного изменения кумулятивной конверсии группы B к группе A. Сделаем выводы и предположения."
   ]
  },
  {
   "cell_type": "code",
   "execution_count": 31,
   "metadata": {},
   "outputs": [
    {
     "data": {
      "image/png": "[encoded data removed]",
      "text/plain": [
       "<Figure size 1008x504 with 1 Axes>"
      ]
     },
     "metadata": {
      "needs_background": "light"
     },
     "output_type": "display_data"
    }
   ],
   "source": [
    "#Строим график\n",
    "plt.figure(figsize=(14, 7))\n",
    "plt.plot(revenue_date_a['date'],  revenue_date_b['conversion_cumsum']/revenue_date_a['conversion_cumsum']-1, '-r');\n",
    "\n",
    "plt.title('График  относительного изменения кумулятивной конверсии группы B к группе A', fontsize=17, color='blue')\n",
    "plt.xlabel('Даты проведения АБ теста',fontsize=12, color='red')\n",
    "plt.ylabel('Конверсия',fontsize=12, color='red')\n",
    "plt.legend([ 'изменения кумулятивной конверсии группы B'])\n",
    "\n",
    "plt.axhline(y=0, color='black', linestyle='--')\n",
    "plt.axhline(y=0.2, color='grey', linestyle='--')\n",
    "plt.axis([\"2019-08-01\", '2019-09-01', -0.5, 0.5]) \n",
    "plt.grid(True)\n",
    "plt.show()"
   ]
  },
  {
   "cell_type": "markdown",
   "metadata": {},
   "source": [
    "**Группа B продолжает доминировать в нашем исследовании)**"
   ]
  },
  {
   "cell_type": "markdown",
   "metadata": {},
   "source": [
    "# 6.7.  Построим точечный график количества заказов по пользователям. Сделаем выводы и предположения."
   ]
  },
  {
   "cell_type": "code",
   "execution_count": 32,
   "metadata": {},
   "outputs": [
    {
     "data": {
      "text/html": [
       "<div>\n",
       "<style scoped>\n",
       "    .dataframe tbody tr th:only-of-type {\n",
       "        vertical-align: middle;\n",
       "    }\n",
       "\n",
       "    .dataframe tbody tr th {\n",
       "        vertical-align: top;\n",
       "    }\n",
       "\n",
       "    .dataframe thead th {\n",
       "        text-align: right;\n",
       "    }\n",
       "</style>\n",
       "<table border=\"1\" class=\"dataframe\">\n",
       "  <thead>\n",
       "    <tr style=\"text-align: right;\">\n",
       "      <th></th>\n",
       "      <th>transactionId</th>\n",
       "      <th>visitorId</th>\n",
       "      <th>date</th>\n",
       "      <th>revenue</th>\n",
       "      <th>group</th>\n",
       "    </tr>\n",
       "  </thead>\n",
       "  <tbody>\n",
       "    <tr>\n",
       "      <td>0</td>\n",
       "      <td>3667963787</td>\n",
       "      <td>3312258926</td>\n",
       "      <td>2019-08-15</td>\n",
       "      <td>1650</td>\n",
       "      <td>B</td>\n",
       "    </tr>\n",
       "    <tr>\n",
       "      <td>1</td>\n",
       "      <td>2804400009</td>\n",
       "      <td>3642806036</td>\n",
       "      <td>2019-08-15</td>\n",
       "      <td>730</td>\n",
       "      <td>B</td>\n",
       "    </tr>\n",
       "    <tr>\n",
       "      <td>2</td>\n",
       "      <td>2961555356</td>\n",
       "      <td>4069496402</td>\n",
       "      <td>2019-08-15</td>\n",
       "      <td>400</td>\n",
       "      <td>A</td>\n",
       "    </tr>\n",
       "    <tr>\n",
       "      <td>3</td>\n",
       "      <td>3797467345</td>\n",
       "      <td>1196621759</td>\n",
       "      <td>2019-08-15</td>\n",
       "      <td>9759</td>\n",
       "      <td>B</td>\n",
       "    </tr>\n",
       "    <tr>\n",
       "      <td>4</td>\n",
       "      <td>2282983706</td>\n",
       "      <td>2322279887</td>\n",
       "      <td>2019-08-15</td>\n",
       "      <td>2308</td>\n",
       "      <td>B</td>\n",
       "    </tr>\n",
       "  </tbody>\n",
       "</table>\n",
       "</div>"
      ],
      "text/plain": [
       "   transactionId   visitorId       date  revenue group\n",
       "0     3667963787  3312258926 2019-08-15     1650     B\n",
       "1     2804400009  3642806036 2019-08-15      730     B\n",
       "2     2961555356  4069496402 2019-08-15      400     A\n",
       "3     3797467345  1196621759 2019-08-15     9759     B\n",
       "4     2282983706  2322279887 2019-08-15     2308     B"
      ]
     },
     "execution_count": 32,
     "metadata": {},
     "output_type": "execute_result"
    }
   ],
   "source": [
    "orders.head()"
   ]
  },
  {
   "cell_type": "code",
   "execution_count": 33,
   "metadata": {},
   "outputs": [],
   "source": [
    "orders_per_user = orders.groupby('visitorId', as_index=False).agg({'transactionId':'nunique'})\\\n",
    "                         .rename(columns={'transactionId':'orders'})"
   ]
  },
  {
   "cell_type": "code",
   "execution_count": 34,
   "metadata": {},
   "outputs": [
    {
     "data": {
      "image/png": "[encoded data removed]",
      "text/plain": [
       "<Figure size 432x288 with 1 Axes>"
      ]
     },
     "metadata": {
      "needs_background": "light"
     },
     "output_type": "display_data"
    }
   ],
   "source": [
    "x_values = pd.Series(range(0,len(orders_per_user['orders'])))\n",
    "plt.scatter(x_values, orders_per_user['orders'], color='red')\n",
    "plt.title('График количества заказов по пользователям', fontsize=14, color='blue')\n",
    "plt.xlabel('Охват',fontsize=12, color='red')\n",
    "plt.ylabel('Количество заказов',fontsize=12, color='red')\n",
    "plt.show()"
   ]
  },
  {
   "cell_type": "markdown",
   "metadata": {},
   "source": [
    "**Большинство клиентов делало по одному заказ, но мы видим что есть два и более заказов**"
   ]
  },
  {
   "cell_type": "markdown",
   "metadata": {},
   "source": [
    "# 6.8.  Посчитаем 95-й и 99-й перцентили количества заказов на пользователя. Выберим границу для определения аномальных пользователей."
   ]
  },
  {
   "cell_type": "code",
   "execution_count": 35,
   "metadata": {},
   "outputs": [
    {
     "data": {
      "text/plain": [
       "array([1., 2., 4.])"
      ]
     },
     "metadata": {},
     "output_type": "display_data"
    }
   ],
   "source": [
    "display(np.percentile(orders_per_user['orders'], [90, 95, 99])) "
   ]
  },
  {
   "cell_type": "markdown",
   "metadata": {},
   "source": [
    "**Значения по количеству покупок больше 4, можно отнести к числу аномальных. (1 %)**"
   ]
  },
  {
   "cell_type": "markdown",
   "metadata": {},
   "source": [
    "# 6.9.  Построим точечный график стоимостей заказов. Сделаем выводы и предположения."
   ]
  },
  {
   "cell_type": "code",
   "execution_count": 36,
   "metadata": {},
   "outputs": [
    {
     "data": {
      "image/png": "[encoded data removed]",
      "text/plain": [
       "<Figure size 432x288 with 1 Axes>"
      ]
     },
     "metadata": {
      "needs_background": "light"
     },
     "output_type": "display_data"
    }
   ],
   "source": [
    "x_values = pd.Series(range(0,len(orders['revenue'])))\n",
    "plt.scatter(x_values, orders['revenue'], color='red')\n",
    "plt.title('Точечный график стоимостей заказа', fontsize=14, color='blue')\n",
    "plt.xlabel('Охват',fontsize=12, color='blue')\n",
    "plt.ylabel('Стоимость',fontsize=12, color='blue')\n",
    "plt.show()"
   ]
  },
  {
   "cell_type": "markdown",
   "metadata": {},
   "source": [
    "**Cтоимость заказов лежит в диапозоне с 100 000 до 200 000, при этом имеется один отчетлевый выброс.**"
   ]
  },
  {
   "cell_type": "markdown",
   "metadata": {},
   "source": [
    "# 6.9. Посчитаем 95-й и 99-й перцентили стоимости заказов. Выберим границу для определения аномальных заказов."
   ]
  },
  {
   "cell_type": "code",
   "execution_count": 37,
   "metadata": {},
   "outputs": [
    {
     "data": {
      "text/plain": [
       "array([18168. , 28000. , 58233.2])"
      ]
     },
     "metadata": {},
     "output_type": "display_data"
    }
   ],
   "source": [
    "display(np.percentile(orders['revenue'], [90, 95, 99])) "
   ]
  },
  {
   "cell_type": "markdown",
   "metadata": {},
   "source": [
    "**Все, что за 99 перцентилем — аномально.**"
   ]
  },
  {
   "cell_type": "markdown",
   "metadata": {},
   "source": [
    "# 6.10.  Посчитаем статистическую значимость различий в конверсии между группами по «сырым» данным. Сделаем выводы и предположения."
   ]
  },
  {
   "cell_type": "code",
   "execution_count": 38,
   "metadata": {},
   "outputs": [
    {
     "data": {
      "text/html": [
       "<div>\n",
       "<style scoped>\n",
       "    .dataframe tbody tr th:only-of-type {\n",
       "        vertical-align: middle;\n",
       "    }\n",
       "\n",
       "    .dataframe tbody tr th {\n",
       "        vertical-align: top;\n",
       "    }\n",
       "\n",
       "    .dataframe thead th {\n",
       "        text-align: right;\n",
       "    }\n",
       "</style>\n",
       "<table border=\"1\" class=\"dataframe\">\n",
       "  <thead>\n",
       "    <tr style=\"text-align: right;\">\n",
       "      <th></th>\n",
       "      <th>group</th>\n",
       "      <th>orders</th>\n",
       "      <th>visitors</th>\n",
       "      <th>conversion</th>\n",
       "    </tr>\n",
       "  </thead>\n",
       "  <tbody>\n",
       "    <tr>\n",
       "      <td>0</td>\n",
       "      <td>A</td>\n",
       "      <td>557</td>\n",
       "      <td>18736</td>\n",
       "      <td>0.03</td>\n",
       "    </tr>\n",
       "    <tr>\n",
       "      <td>1</td>\n",
       "      <td>B</td>\n",
       "      <td>640</td>\n",
       "      <td>18916</td>\n",
       "      <td>0.03</td>\n",
       "    </tr>\n",
       "  </tbody>\n",
       "</table>\n",
       "</div>"
      ],
      "text/plain": [
       "  group  orders  visitors  conversion\n",
       "0     A     557     18736        0.03\n",
       "1     B     640     18916        0.03"
      ]
     },
     "execution_count": 38,
     "metadata": {},
     "output_type": "execute_result"
    }
   ],
   "source": [
    "conversion = (orders.groupby('group').agg({'transactionId':'count'}).rename(columns={'transactionId':'orders'}))\\\n",
    "                                     .join((visitors.groupby('group').agg({'visitors':'sum'}))).reset_index()\n",
    "conversion['conversion'] = conversion['orders'] / conversion['visitors']\n",
    "conversion"
   ]
  },
  {
   "cell_type": "code",
   "execution_count": 39,
   "metadata": {},
   "outputs": [
    {
     "name": "stdout",
     "output_type": "stream",
     "text": [
      "p-значение:  1.0\n",
      "Не получилось отвергнуть H0: вывод о различии сделать нельзя\n"
     ]
    }
   ],
   "source": [
    "# Воспользуемся критерием Манна-Уитни\n",
    "# H0: Конверсия в группе A РАВНА конверсии в группе B\n",
    "# H1: Конверсия в группе A НЕ РАВНА конверсии в группе B\n",
    "alpha = 0.05\n",
    "results = st.mannwhitneyu(conversion[conversion['group']=='A']['conversion'], conversion[conversion['group']=='B']['conversion'], alternative=\"two-sided\")\n",
    "pvalue = results.pvalue\n",
    "print('p-значение: ', pvalue)\n",
    "if (pvalue < alpha):\n",
    "    print(\"Отвергаем H0: разница статистически значима\")\n",
    "else:\n",
    "    print(\"Не получилось отвергнуть H0: вывод о различии сделать нельзя\")"
   ]
  },
  {
   "cell_type": "code",
   "execution_count": 40,
   "metadata": {},
   "outputs": [
    {
     "data": {
      "text/plain": [
       "'Грязные данные Конверсия группы В больше чем конверсия группы А на 13.8%'"
      ]
     },
     "metadata": {},
     "output_type": "display_data"
    }
   ],
   "source": [
    "display(\"Грязные данные Конверсия группы В больше чем конверсия группы А на {0:.1%}\".format(conversion[conversion['group']=='B']['conversion'].sum()/conversion[conversion['group']=='A']['conversion'].sum()-1))"
   ]
  },
  {
   "cell_type": "markdown",
   "metadata": {},
   "source": [
    "# 6.11.  Посчитаем статистическую значимость различий в среднем чеке заказа между группами по «сырым» данным. Сделаем выводы и предположения."
   ]
  },
  {
   "cell_type": "code",
   "execution_count": 41,
   "metadata": {},
   "outputs": [
    {
     "data": {
      "text/plain": [
       "7333.578096947936"
      ]
     },
     "metadata": {},
     "output_type": "display_data"
    },
    {
     "data": {
      "text/plain": [
       "9230.875"
      ]
     },
     "metadata": {},
     "output_type": "display_data"
    }
   ],
   "source": [
    "#Ради интереса для начала гляним на средние чеки\n",
    "display(orders[orders['group']=='A']['revenue'].mean())\n",
    "display(orders[orders['group']=='B']['revenue'].mean())"
   ]
  },
  {
   "cell_type": "code",
   "execution_count": 42,
   "metadata": {},
   "outputs": [
    {
     "name": "stdout",
     "output_type": "stream",
     "text": [
      "p-значение:  0.7292909855432458\n",
      "Не получилось отвергнуть H0: вывод о различии сделать нельзя\n"
     ]
    }
   ],
   "source": [
    "# Воспользуемся критерием Манна-Уитни\n",
    "# H0: Средний чек A НЕ ПРЕВОСХОДИТ среднему чеку группы B\n",
    "# H1: Средний чек A ПРЕВОСХОДИТ среднему чеку группы B\n",
    "alpha = 0.05\n",
    "results = st.mannwhitneyu(orders[orders['group']=='A']['revenue'], orders[orders['group']=='B']['revenue'], alternative=\"two-sided\")\n",
    "pvalue = results.pvalue\n",
    "print('p-значение: ', pvalue)\n",
    "if (pvalue < alpha):\n",
    "    print(\"Отвергаем H0: разница статистически значима\")\n",
    "else:\n",
    "    print(\"Не получилось отвергнуть H0: вывод о различии сделать нельзя\")"
   ]
  },
  {
   "cell_type": "code",
   "execution_count": 43,
   "metadata": {},
   "outputs": [
    {
     "data": {
      "text/plain": [
       "'Грязные данные Средний чек группы В больше чем средний чек группы А на 25.9%'"
      ]
     },
     "metadata": {},
     "output_type": "display_data"
    }
   ],
   "source": [
    "display(\"Грязные данные Средний чек группы В больше чем средний чек группы А на {0:.1%}\".format(orders[orders['group']=='B']['revenue'].mean()/orders[orders['group']=='A']['revenue'].mean()-1))"
   ]
  },
  {
   "cell_type": "markdown",
   "metadata": {},
   "source": [
    "# 6.12.  Посчитаем статистическую значимость различий в конверсии между группами по «очищенным» данным. Сделаем выводы и предположения."
   ]
  },
  {
   "cell_type": "markdown",
   "metadata": {},
   "source": [
    "Освежим память:\n",
    "- 95-й и 99-й перцентили средних чеков равны 28 000 и 58 233 рублям.\n",
    "- 95-й и 99-й перцентили количества заказов на одного пользователя равны 2 и 4 заказа на пользователя."
   ]
  },
  {
   "cell_type": "code",
   "execution_count": 44,
   "metadata": {},
   "outputs": [
    {
     "data": {
      "text/plain": [
       "[199603092,\n",
       " 237748145,\n",
       " 457167155,\n",
       " 1230306981,\n",
       " 1614305549,\n",
       " 2038680547,\n",
       " 2378935119,\n",
       " 2458001652,\n",
       " 2587333274,\n",
       " 3062433592,\n",
       " 3717692402,\n",
       " 3803269165,\n",
       " 4256040402]"
      ]
     },
     "execution_count": 44,
     "metadata": {},
     "output_type": "execute_result"
    }
   ],
   "source": [
    "outlaws_1p = orders_per_user[orders_per_user['orders'] >= 4]['visitorId'].to_list()\n",
    "outlaws_1p"
   ]
  },
  {
   "cell_type": "code",
   "execution_count": 45,
   "metadata": {},
   "outputs": [],
   "source": [
    "# Зачистим данные\n",
    "orders_temp = orders[~orders['visitorId'].isin(outlaws_1p)]\n",
    "conversion_clear = (orders_temp.groupby('group').agg({'transactionId':'count'}).rename(columns={'transactionId':'orders'}))\\\n",
    "                                                .join((visitors.groupby('group').agg({'visitors':'sum'}))).reset_index()\n",
    "conversion_clear['conversion'] = conversion_clear['orders'] / conversion_clear['visitors']"
   ]
  },
  {
   "cell_type": "code",
   "execution_count": 46,
   "metadata": {},
   "outputs": [
    {
     "data": {
      "text/html": [
       "<div>\n",
       "<style scoped>\n",
       "    .dataframe tbody tr th:only-of-type {\n",
       "        vertical-align: middle;\n",
       "    }\n",
       "\n",
       "    .dataframe tbody tr th {\n",
       "        vertical-align: top;\n",
       "    }\n",
       "\n",
       "    .dataframe thead th {\n",
       "        text-align: right;\n",
       "    }\n",
       "</style>\n",
       "<table border=\"1\" class=\"dataframe\">\n",
       "  <thead>\n",
       "    <tr style=\"text-align: right;\">\n",
       "      <th></th>\n",
       "      <th>group</th>\n",
       "      <th>orders</th>\n",
       "      <th>visitors</th>\n",
       "      <th>conversion</th>\n",
       "    </tr>\n",
       "  </thead>\n",
       "  <tbody>\n",
       "    <tr>\n",
       "      <td>0</td>\n",
       "      <td>A</td>\n",
       "      <td>517</td>\n",
       "      <td>18736</td>\n",
       "      <td>0.03</td>\n",
       "    </tr>\n",
       "    <tr>\n",
       "      <td>1</td>\n",
       "      <td>B</td>\n",
       "      <td>599</td>\n",
       "      <td>18916</td>\n",
       "      <td>0.03</td>\n",
       "    </tr>\n",
       "  </tbody>\n",
       "</table>\n",
       "</div>"
      ],
      "text/plain": [
       "  group  orders  visitors  conversion\n",
       "0     A     517     18736        0.03\n",
       "1     B     599     18916        0.03"
      ]
     },
     "execution_count": 46,
     "metadata": {},
     "output_type": "execute_result"
    }
   ],
   "source": [
    "conversion_clear.head()"
   ]
  },
  {
   "cell_type": "code",
   "execution_count": 47,
   "metadata": {},
   "outputs": [
    {
     "name": "stdout",
     "output_type": "stream",
     "text": [
      "p-значение:  1.0\n",
      "Не получилось отвергнуть H0: вывод о различии сделать нельзя\n"
     ]
    }
   ],
   "source": [
    "# Воспользуемся критерием Манна-Уитни\n",
    "# H0: Конверсия в группе A РАВНА конверсии в группе B\n",
    "# H1: Конверсия в группе A НЕ РАВНА конверсии в группе B\n",
    "alpha = 0.05\n",
    "results = st.mannwhitneyu(conversion_clear[conversion_clear['group']=='A']['conversion'], conversion_clear[conversion_clear['group']=='B']['conversion'], alternative=\"two-sided\")\n",
    "pvalue = results.pvalue\n",
    "print('p-значение: ', pvalue)\n",
    "if (pvalue < alpha):\n",
    "    print(\"Отвергаем H0: разница статистически значима\")\n",
    "else:\n",
    "    print(\"Не получилось отвергнуть H0: вывод о различии сделать нельзя\")"
   ]
  },
  {
   "cell_type": "code",
   "execution_count": 48,
   "metadata": {},
   "outputs": [
    {
     "data": {
      "text/plain": [
       "'Чистые данные Конверсия группы В больше чем конверсия группы А на 14.8%'"
      ]
     },
     "metadata": {},
     "output_type": "display_data"
    }
   ],
   "source": [
    "display(\"Чистые данные Конверсия группы В больше чем конверсия группы А на {0:.1%}\".format(conversion_clear[conversion_clear['group']=='B']['conversion'].sum()/conversion_clear[conversion_clear['group']=='A']['conversion'].sum()-1))"
   ]
  },
  {
   "cell_type": "markdown",
   "metadata": {},
   "source": [
    "# 6.13.  Посчитаем статистическую значимость различий в среднем чеке заказа между группами по «очищенным» данным. Сделаем выводы и предположения."
   ]
  },
  {
   "cell_type": "code",
   "execution_count": 49,
   "metadata": {},
   "outputs": [],
   "source": [
    "#Чистка\n",
    "orders_clear = orders.query('revenue <= 58233')"
   ]
  },
  {
   "cell_type": "code",
   "execution_count": 50,
   "metadata": {},
   "outputs": [
    {
     "name": "stdout",
     "output_type": "stream",
     "text": [
      "p-значение:  0.6208626966847455\n",
      "Не получилось отвергнуть H0: вывод о различии сделать нельзя\n"
     ]
    }
   ],
   "source": [
    "# Воспользуемся критерием Манна-Уитни\n",
    "# H0: Средний чек A НЕ ПРЕВОСХОДИТ среднему чеку группы B\n",
    "# H1: Средний чек A ПРЕВОСХОДИТ среднему чеку группы B\n",
    "alpha = 0.05\n",
    "results = st.mannwhitneyu(orders_clear[orders_clear['group']=='A']['revenue'], orders_clear[orders_clear['group']=='B']['revenue'], alternative=\"two-sided\")\n",
    "pvalue = results.pvalue\n",
    "print('p-значение: ', pvalue)\n",
    "if (pvalue < alpha):\n",
    "    print(\"Отвергаем H0: разница статистически значима\")\n",
    "else:\n",
    "    print(\"Не получилось отвергнуть H0: вывод о различии сделать нельзя\")"
   ]
  },
  {
   "cell_type": "code",
   "execution_count": 51,
   "metadata": {},
   "outputs": [
    {
     "data": {
      "text/plain": [
       "'Чистые данные Средний чек группы В больше чем средний чек группы А на 1.9%'"
      ]
     },
     "metadata": {},
     "output_type": "display_data"
    }
   ],
   "source": [
    "display(\"Чистые данные Средний чек группы В больше чем средний чек группы А на {0:.1%}\".format(orders_clear[orders_clear['group']=='B']['revenue'].mean()/orders_clear[orders_clear['group']=='A']['revenue'].mean()-1))"
   ]
  },
  {
   "cell_type": "markdown",
   "metadata": {},
   "source": [
    "# 6.14.  Примим решение по результатам теста и объясним его"
   ]
  },
  {
   "cell_type": "markdown",
   "metadata": {},
   "source": [
    "**Тест остановить и признать его неуспешным. Продолжать смысла нет, потому как вероятность, что при имеющихся данных сегмент B статистически значимо улучшиться относительно сегмента A крайне низкая**"
   ]
  }
 ],
 "metadata": {
  "ExecuteTimeLog": [
   {
    "duration": 101,
    "start_time": "2022-02-23T09:15:55.007Z"
   },
   {
    "duration": 1133,
    "start_time": "2022-02-23T09:38:43.397Z"
   },
   {
    "duration": 68,
    "start_time": "2022-02-23T09:39:30.688Z"
   },
   {
    "duration": 33,
    "start_time": "2022-02-23T09:41:25.206Z"
   },
   {
    "duration": 29,
    "start_time": "2022-02-23T09:43:34.612Z"
   },
   {
    "duration": 24,
    "start_time": "2022-02-23T09:46:34.915Z"
   },
   {
    "duration": 8,
    "start_time": "2022-02-23T09:50:55.966Z"
   },
   {
    "duration": 9,
    "start_time": "2022-02-23T09:51:14.246Z"
   },
   {
    "duration": 256,
    "start_time": "2022-02-23T09:51:51.257Z"
   },
   {
    "duration": 2,
    "start_time": "2022-02-23T09:58:48.625Z"
   },
   {
    "duration": 11,
    "start_time": "2022-02-23T10:00:09.135Z"
   },
   {
    "duration": 257,
    "start_time": "2022-02-23T10:01:24.763Z"
   },
   {
    "duration": 246,
    "start_time": "2022-02-23T10:01:43.600Z"
   },
   {
    "duration": 1449,
    "start_time": "2022-02-23T10:31:03.621Z"
   },
   {
    "duration": 3,
    "start_time": "2022-02-23T10:31:39.885Z"
   },
   {
    "duration": 12,
    "start_time": "2022-02-23T10:31:45.183Z"
   },
   {
    "duration": 1370,
    "start_time": "2022-02-23T10:32:08.241Z"
   },
   {
    "duration": 1535,
    "start_time": "2022-02-23T10:32:26.620Z"
   },
   {
    "duration": 4,
    "start_time": "2022-02-23T10:32:32.788Z"
   },
   {
    "duration": 61,
    "start_time": "2022-02-23T10:32:32.793Z"
   },
   {
    "duration": 30,
    "start_time": "2022-02-23T10:32:32.856Z"
   },
   {
    "duration": 27,
    "start_time": "2022-02-23T10:32:32.888Z"
   },
   {
    "duration": 48,
    "start_time": "2022-02-23T10:32:32.916Z"
   },
   {
    "duration": 9,
    "start_time": "2022-02-23T10:32:32.965Z"
   },
   {
    "duration": 286,
    "start_time": "2022-02-23T10:32:32.975Z"
   },
   {
    "duration": 14,
    "start_time": "2022-02-23T10:32:33.262Z"
   },
   {
    "duration": 271,
    "start_time": "2022-02-23T10:32:33.278Z"
   },
   {
    "duration": 11,
    "start_time": "2022-02-23T10:32:33.551Z"
   },
   {
    "duration": 6,
    "start_time": "2022-02-23T10:32:40.882Z"
   },
   {
    "duration": 6,
    "start_time": "2022-02-23T10:32:53.638Z"
   },
   {
    "duration": 134,
    "start_time": "2022-02-23T10:34:12.555Z"
   },
   {
    "duration": 6,
    "start_time": "2022-02-23T10:36:27.705Z"
   },
   {
    "duration": 14,
    "start_time": "2022-02-23T10:36:54.091Z"
   },
   {
    "duration": 14,
    "start_time": "2022-02-23T10:37:12.574Z"
   },
   {
    "duration": 25,
    "start_time": "2022-02-23T10:37:22.814Z"
   },
   {
    "duration": 101,
    "start_time": "2022-02-23T10:38:22.601Z"
   },
   {
    "duration": 298,
    "start_time": "2022-02-23T10:38:30.368Z"
   },
   {
    "duration": 242,
    "start_time": "2022-02-23T10:39:33.012Z"
   },
   {
    "duration": 254,
    "start_time": "2022-02-23T10:40:18.387Z"
   },
   {
    "duration": 254,
    "start_time": "2022-02-23T10:40:58.325Z"
   },
   {
    "duration": 2,
    "start_time": "2022-02-23T10:47:21.892Z"
   },
   {
    "duration": 4,
    "start_time": "2022-02-23T10:47:50.944Z"
   },
   {
    "duration": 6,
    "start_time": "2022-02-23T10:48:02.906Z"
   },
   {
    "duration": 7,
    "start_time": "2022-02-23T11:10:06.198Z"
   },
   {
    "duration": 28,
    "start_time": "2022-02-23T11:12:05.970Z"
   },
   {
    "duration": 367,
    "start_time": "2022-02-23T11:13:07.122Z"
   },
   {
    "duration": 4,
    "start_time": "2022-02-23T11:14:13.347Z"
   },
   {
    "duration": 289,
    "start_time": "2022-02-23T11:17:57.307Z"
   },
   {
    "duration": 292,
    "start_time": "2022-02-23T11:18:05.766Z"
   },
   {
    "duration": 16,
    "start_time": "2022-02-23T11:19:09.058Z"
   },
   {
    "duration": 279,
    "start_time": "2022-02-23T11:19:50.650Z"
   },
   {
    "duration": 403,
    "start_time": "2022-02-23T11:33:48.157Z"
   },
   {
    "duration": 454,
    "start_time": "2022-02-23T11:38:51.477Z"
   },
   {
    "duration": 5,
    "start_time": "2022-02-23T11:38:53.346Z"
   },
   {
    "duration": 21,
    "start_time": "2022-02-23T11:38:55.275Z"
   },
   {
    "duration": 19,
    "start_time": "2022-02-23T11:39:42.057Z"
   },
   {
    "duration": 18,
    "start_time": "2022-02-23T11:39:49.408Z"
   },
   {
    "duration": 259,
    "start_time": "2022-02-23T11:40:58.857Z"
   },
   {
    "duration": 368,
    "start_time": "2022-02-23T11:44:19.007Z"
   },
   {
    "duration": 307,
    "start_time": "2022-02-23T11:47:04.205Z"
   },
   {
    "duration": 7,
    "start_time": "2022-02-23T11:48:58.798Z"
   },
   {
    "duration": 7282,
    "start_time": "2022-02-23T11:49:17.630Z"
   },
   {
    "duration": 6,
    "start_time": "2022-02-23T11:49:43.038Z"
   },
   {
    "duration": 368,
    "start_time": "2022-02-23T11:50:05.554Z"
   },
   {
    "duration": 247,
    "start_time": "2022-02-23T11:50:58.999Z"
   },
   {
    "duration": 269,
    "start_time": "2022-02-23T11:51:33.823Z"
   },
   {
    "duration": 303,
    "start_time": "2022-02-23T11:51:58.543Z"
   },
   {
    "duration": 236,
    "start_time": "2022-02-23T11:52:50.397Z"
   },
   {
    "duration": 4,
    "start_time": "2022-02-23T11:56:05.421Z"
   },
   {
    "duration": 245,
    "start_time": "2022-02-23T11:59:34.090Z"
   },
   {
    "duration": 251,
    "start_time": "2022-02-23T11:59:49.657Z"
   },
   {
    "duration": 279,
    "start_time": "2022-02-23T12:01:56.257Z"
   },
   {
    "duration": 252,
    "start_time": "2022-02-23T12:02:59.877Z"
   },
   {
    "duration": 6,
    "start_time": "2022-02-23T12:05:52.444Z"
   },
   {
    "duration": 11,
    "start_time": "2022-02-23T12:08:22.159Z"
   },
   {
    "duration": 15,
    "start_time": "2022-02-23T12:09:00.784Z"
   },
   {
    "duration": 7,
    "start_time": "2022-02-23T12:09:21.096Z"
   },
   {
    "duration": 3,
    "start_time": "2022-02-23T12:11:09.135Z"
   },
   {
    "duration": 40,
    "start_time": "2022-02-23T12:11:15.406Z"
   },
   {
    "duration": 4,
    "start_time": "2022-02-23T12:11:22.484Z"
   },
   {
    "duration": 35,
    "start_time": "2022-02-23T12:11:25.269Z"
   },
   {
    "duration": 97,
    "start_time": "2022-02-23T12:12:03.485Z"
   },
   {
    "duration": 97,
    "start_time": "2022-02-23T12:12:12.169Z"
   },
   {
    "duration": 14,
    "start_time": "2022-02-23T12:12:18.055Z"
   },
   {
    "duration": 8,
    "start_time": "2022-02-23T12:16:12.093Z"
   },
   {
    "duration": 5,
    "start_time": "2022-02-23T12:16:40.229Z"
   },
   {
    "duration": 8,
    "start_time": "2022-02-23T12:17:21.994Z"
   },
   {
    "duration": 7,
    "start_time": "2022-02-23T12:44:16.285Z"
   },
   {
    "duration": 5,
    "start_time": "2022-02-23T12:44:24.044Z"
   },
   {
    "duration": 304,
    "start_time": "2022-02-23T12:44:44.661Z"
   },
   {
    "duration": 526,
    "start_time": "2022-02-23T12:48:31.994Z"
   },
   {
    "duration": 418,
    "start_time": "2022-02-23T12:49:04.774Z"
   },
   {
    "duration": 10,
    "start_time": "2022-02-23T12:49:26.093Z"
   },
   {
    "duration": 5,
    "start_time": "2022-02-23T12:49:28.812Z"
   },
   {
    "duration": 12,
    "start_time": "2022-02-23T12:49:38.286Z"
   },
   {
    "duration": 9,
    "start_time": "2022-02-23T12:50:14.986Z"
   },
   {
    "duration": 5,
    "start_time": "2022-02-23T12:50:25.924Z"
   },
   {
    "duration": 335,
    "start_time": "2022-02-23T12:52:02.927Z"
   },
   {
    "duration": 7986,
    "start_time": "2022-02-23T12:55:44.480Z"
   },
   {
    "duration": 4,
    "start_time": "2022-02-23T12:56:00.969Z"
   },
   {
    "duration": 4,
    "start_time": "2022-02-23T12:56:07.473Z"
   },
   {
    "duration": 291,
    "start_time": "2022-02-23T12:57:10.425Z"
   },
   {
    "duration": 5,
    "start_time": "2022-02-23T12:57:23.175Z"
   },
   {
    "duration": 8199,
    "start_time": "2022-02-23T12:57:56.329Z"
   },
   {
    "duration": 10,
    "start_time": "2022-02-23T12:58:13.608Z"
   },
   {
    "duration": 7,
    "start_time": "2022-02-23T12:58:29.498Z"
   },
   {
    "duration": 5,
    "start_time": "2022-02-23T12:59:57.899Z"
   },
   {
    "duration": 5,
    "start_time": "2022-02-23T13:00:07.537Z"
   },
   {
    "duration": 6,
    "start_time": "2022-02-23T13:00:24.194Z"
   },
   {
    "duration": 3,
    "start_time": "2022-02-23T13:03:37.467Z"
   },
   {
    "duration": 62,
    "start_time": "2022-02-23T13:03:37.472Z"
   },
   {
    "duration": 31,
    "start_time": "2022-02-23T13:03:37.536Z"
   },
   {
    "duration": 30,
    "start_time": "2022-02-23T13:03:37.568Z"
   },
   {
    "duration": 54,
    "start_time": "2022-02-23T13:03:37.600Z"
   },
   {
    "duration": 8,
    "start_time": "2022-02-23T13:03:37.656Z"
   },
   {
    "duration": 295,
    "start_time": "2022-02-23T13:03:37.667Z"
   },
   {
    "duration": 10,
    "start_time": "2022-02-23T13:03:37.964Z"
   },
   {
    "duration": 260,
    "start_time": "2022-02-23T13:03:37.976Z"
   },
   {
    "duration": 16,
    "start_time": "2022-02-23T13:03:38.238Z"
   },
   {
    "duration": 11,
    "start_time": "2022-02-23T13:03:38.255Z"
   },
   {
    "duration": 148,
    "start_time": "2022-02-23T13:03:38.268Z"
   },
   {
    "duration": 6,
    "start_time": "2022-02-23T13:03:38.417Z"
   },
   {
    "duration": 35,
    "start_time": "2022-02-23T13:03:38.424Z"
   },
   {
    "duration": 342,
    "start_time": "2022-02-23T13:03:38.460Z"
   },
   {
    "duration": 259,
    "start_time": "2022-02-23T13:03:38.804Z"
   },
   {
    "duration": 4,
    "start_time": "2022-02-23T13:03:39.064Z"
   },
   {
    "duration": 11,
    "start_time": "2022-02-23T13:03:39.069Z"
   },
   {
    "duration": 11,
    "start_time": "2022-02-23T13:03:39.082Z"
   },
   {
    "duration": 29,
    "start_time": "2022-02-23T13:03:39.095Z"
   },
   {
    "duration": 349,
    "start_time": "2022-02-23T13:03:39.126Z"
   },
   {
    "duration": 4,
    "start_time": "2022-02-23T13:03:39.477Z"
   },
   {
    "duration": 18,
    "start_time": "2022-02-23T13:03:39.482Z"
   },
   {
    "duration": 273,
    "start_time": "2022-02-23T13:03:39.501Z"
   },
   {
    "duration": 390,
    "start_time": "2022-02-23T13:03:39.776Z"
   },
   {
    "duration": 5,
    "start_time": "2022-02-23T13:03:40.167Z"
   },
   {
    "duration": 24,
    "start_time": "2022-02-23T13:03:40.173Z"
   },
   {
    "duration": 19,
    "start_time": "2022-02-23T13:03:40.198Z"
   },
   {
    "duration": 282,
    "start_time": "2022-02-23T13:03:40.218Z"
   },
   {
    "duration": 420,
    "start_time": "2022-02-23T13:03:40.501Z"
   },
   {
    "duration": 8,
    "start_time": "2022-02-23T13:03:40.922Z"
   },
   {
    "duration": 15,
    "start_time": "2022-02-23T13:03:40.931Z"
   },
   {
    "duration": 299,
    "start_time": "2022-02-23T13:03:40.948Z"
   },
   {
    "duration": 4,
    "start_time": "2022-02-23T13:03:41.249Z"
   },
   {
    "duration": 279,
    "start_time": "2022-02-23T13:03:41.254Z"
   },
   {
    "duration": 13,
    "start_time": "2022-02-23T13:03:41.534Z"
   },
   {
    "duration": 15,
    "start_time": "2022-02-23T13:03:41.549Z"
   },
   {
    "duration": 6,
    "start_time": "2022-02-23T13:03:41.566Z"
   },
   {
    "duration": 8,
    "start_time": "2022-02-23T13:03:41.573Z"
   },
   {
    "duration": 8,
    "start_time": "2022-02-23T13:03:41.582Z"
   },
   {
    "duration": 6,
    "start_time": "2022-02-23T13:03:41.591Z"
   },
   {
    "duration": 9,
    "start_time": "2022-02-23T13:03:41.599Z"
   },
   {
    "duration": 6,
    "start_time": "2022-02-23T13:03:41.609Z"
   },
   {
    "duration": 5,
    "start_time": "2022-02-23T13:03:41.646Z"
   },
   {
    "duration": 14,
    "start_time": "2022-02-23T13:03:41.652Z"
   },
   {
    "duration": 2442,
    "start_time": "2022-02-23T16:29:28.759Z"
   },
   {
    "duration": 77,
    "start_time": "2022-02-23T16:29:31.203Z"
   },
   {
    "duration": 78,
    "start_time": "2022-02-23T16:29:31.284Z"
   },
   {
    "duration": 95,
    "start_time": "2022-02-23T16:29:31.367Z"
   },
   {
    "duration": 45,
    "start_time": "2022-02-23T16:29:31.495Z"
   },
   {
    "duration": 68,
    "start_time": "2022-02-23T16:29:31.543Z"
   },
   {
    "duration": 68223,
    "start_time": "2022-02-23T16:29:31.615Z"
   },
   {
    "duration": 16,
    "start_time": "2022-02-23T16:30:39.844Z"
   },
   {
    "duration": 624,
    "start_time": "2022-02-23T16:30:39.863Z"
   },
   {
    "duration": 24,
    "start_time": "2022-02-23T16:30:40.489Z"
   },
   {
    "duration": 22,
    "start_time": "2022-02-23T16:30:40.515Z"
   },
   {
    "duration": 366,
    "start_time": "2022-02-23T16:30:40.539Z"
   },
   {
    "duration": 7,
    "start_time": "2022-02-23T16:30:40.908Z"
   },
   {
    "duration": 40,
    "start_time": "2022-02-23T16:30:40.918Z"
   },
   {
    "duration": 497,
    "start_time": "2022-02-23T16:30:40.961Z"
   },
   {
    "duration": 646,
    "start_time": "2022-02-23T16:30:41.462Z"
   },
   {
    "duration": 10,
    "start_time": "2022-02-23T16:30:42.111Z"
   },
   {
    "duration": 22,
    "start_time": "2022-02-23T16:30:42.124Z"
   },
   {
    "duration": 19,
    "start_time": "2022-02-23T16:30:42.150Z"
   },
   {
    "duration": 52,
    "start_time": "2022-02-23T16:30:42.193Z"
   },
   {
    "duration": 649,
    "start_time": "2022-02-23T16:30:42.246Z"
   },
   {
    "duration": 7,
    "start_time": "2022-02-23T16:30:42.898Z"
   },
   {
    "duration": 30,
    "start_time": "2022-02-23T16:30:42.913Z"
   },
   {
    "duration": 468,
    "start_time": "2022-02-23T16:30:42.946Z"
   },
   {
    "duration": 647,
    "start_time": "2022-02-23T16:30:43.417Z"
   },
   {
    "duration": 8,
    "start_time": "2022-02-23T16:30:44.067Z"
   },
   {
    "duration": 54,
    "start_time": "2022-02-23T16:30:44.093Z"
   },
   {
    "duration": 70,
    "start_time": "2022-02-23T16:30:44.150Z"
   },
   {
    "duration": 1000,
    "start_time": "2022-02-23T16:30:44.223Z"
   },
   {
    "duration": 77934,
    "start_time": "2022-02-23T16:29:27.293Z"
   },
   {
    "duration": 77932,
    "start_time": "2022-02-23T16:29:27.297Z"
   },
   {
    "duration": 77931,
    "start_time": "2022-02-23T16:29:27.300Z"
   },
   {
    "duration": 77930,
    "start_time": "2022-02-23T16:29:27.303Z"
   },
   {
    "duration": 77928,
    "start_time": "2022-02-23T16:29:27.306Z"
   },
   {
    "duration": 77928,
    "start_time": "2022-02-23T16:29:27.309Z"
   },
   {
    "duration": 77926,
    "start_time": "2022-02-23T16:29:27.313Z"
   },
   {
    "duration": 77923,
    "start_time": "2022-02-23T16:29:27.317Z"
   },
   {
    "duration": 77919,
    "start_time": "2022-02-23T16:29:27.323Z"
   },
   {
    "duration": 77918,
    "start_time": "2022-02-23T16:29:27.326Z"
   },
   {
    "duration": 77917,
    "start_time": "2022-02-23T16:29:27.329Z"
   },
   {
    "duration": 77916,
    "start_time": "2022-02-23T16:29:27.332Z"
   },
   {
    "duration": 77957,
    "start_time": "2022-02-23T16:29:27.336Z"
   },
   {
    "duration": 77956,
    "start_time": "2022-02-23T16:29:27.339Z"
   },
   {
    "duration": 77953,
    "start_time": "2022-02-23T16:29:27.343Z"
   },
   {
    "duration": 77952,
    "start_time": "2022-02-23T16:29:27.346Z"
   },
   {
    "duration": 676,
    "start_time": "2022-02-23T16:31:50.540Z"
   },
   {
    "duration": 15,
    "start_time": "2022-02-23T16:31:55.619Z"
   },
   {
    "duration": 10,
    "start_time": "2022-02-23T16:31:56.036Z"
   },
   {
    "duration": 405,
    "start_time": "2022-02-23T16:31:56.388Z"
   },
   {
    "duration": 7,
    "start_time": "2022-02-23T16:31:57.036Z"
   },
   {
    "duration": 324,
    "start_time": "2022-02-23T16:31:57.884Z"
   },
   {
    "duration": 6,
    "start_time": "2022-02-23T16:31:58.444Z"
   },
   {
    "duration": 19,
    "start_time": "2022-02-23T16:31:59.060Z"
   },
   {
    "duration": 10,
    "start_time": "2022-02-23T16:31:59.260Z"
   },
   {
    "duration": 11,
    "start_time": "2022-02-23T16:31:59.948Z"
   },
   {
    "duration": 11,
    "start_time": "2022-02-23T16:32:00.140Z"
   },
   {
    "duration": 7,
    "start_time": "2022-02-23T16:32:00.691Z"
   },
   {
    "duration": 16,
    "start_time": "2022-02-23T16:32:00.877Z"
   },
   {
    "duration": 11,
    "start_time": "2022-02-23T16:32:01.062Z"
   },
   {
    "duration": 8,
    "start_time": "2022-02-23T16:32:01.411Z"
   },
   {
    "duration": 11,
    "start_time": "2022-02-23T16:32:01.596Z"
   },
   {
    "duration": 1481,
    "start_time": "2022-02-25T09:32:51.212Z"
   },
   {
    "duration": 197,
    "start_time": "2022-02-25T09:32:56.257Z"
   },
   {
    "duration": 68,
    "start_time": "2022-02-25T09:33:00.506Z"
   },
   {
    "duration": 387,
    "start_time": "2022-02-25T09:33:07.905Z"
   },
   {
    "duration": 53,
    "start_time": "2022-02-25T09:33:11.646Z"
   },
   {
    "duration": 49,
    "start_time": "2022-02-25T09:34:48.062Z"
   },
   {
    "duration": 48,
    "start_time": "2022-02-25T09:34:59.465Z"
   },
   {
    "duration": 42,
    "start_time": "2022-02-25T09:35:07.227Z"
   },
   {
    "duration": 712,
    "start_time": "2022-02-25T09:37:02.465Z"
   },
   {
    "duration": 65,
    "start_time": "2022-02-25T09:37:18.502Z"
   },
   {
    "duration": 59,
    "start_time": "2022-02-25T09:37:55.977Z"
   },
   {
    "duration": 49,
    "start_time": "2022-02-25T09:38:29.050Z"
   },
   {
    "duration": 12,
    "start_time": "2022-02-25T10:07:12.110Z"
   },
   {
    "duration": 9,
    "start_time": "2022-02-25T10:07:56.839Z"
   },
   {
    "duration": 12,
    "start_time": "2022-02-25T10:08:31.992Z"
   },
   {
    "duration": 10,
    "start_time": "2022-02-25T10:09:16.576Z"
   },
   {
    "duration": 12,
    "start_time": "2022-02-25T10:10:31.307Z"
   },
   {
    "duration": 10,
    "start_time": "2022-02-25T10:10:38.831Z"
   },
   {
    "duration": 9,
    "start_time": "2022-02-25T10:10:52.377Z"
   },
   {
    "duration": 16,
    "start_time": "2022-02-25T10:40:52.052Z"
   },
   {
    "duration": 25,
    "start_time": "2022-02-25T10:42:24.597Z"
   },
   {
    "duration": 15,
    "start_time": "2022-02-25T10:42:35.192Z"
   },
   {
    "duration": 16,
    "start_time": "2022-02-25T10:43:54.062Z"
   },
   {
    "duration": 16,
    "start_time": "2022-02-25T10:52:57.616Z"
   },
   {
    "duration": 393,
    "start_time": "2022-02-25T11:02:50.333Z"
   },
   {
    "duration": 239,
    "start_time": "2022-02-25T11:02:55.172Z"
   },
   {
    "duration": 5,
    "start_time": "2022-02-25T11:02:59.257Z"
   },
   {
    "duration": 218,
    "start_time": "2022-02-25T11:02:59.265Z"
   },
   {
    "duration": 59,
    "start_time": "2022-02-25T11:02:59.486Z"
   },
   {
    "duration": 86,
    "start_time": "2022-02-25T11:02:59.549Z"
   },
   {
    "duration": 15,
    "start_time": "2022-02-25T11:02:59.638Z"
   },
   {
    "duration": 81,
    "start_time": "2022-02-25T11:02:59.656Z"
   },
   {
    "duration": 16,
    "start_time": "2022-02-25T11:02:59.739Z"
   },
   {
    "duration": 506,
    "start_time": "2022-02-25T11:02:59.793Z"
   },
   {
    "duration": 18,
    "start_time": "2022-02-25T11:03:00.305Z"
   },
   {
    "duration": 506,
    "start_time": "2022-02-25T11:03:00.326Z"
   },
   {
    "duration": 21,
    "start_time": "2022-02-25T11:03:00.835Z"
   },
   {
    "duration": 40,
    "start_time": "2022-02-25T11:03:00.858Z"
   },
   {
    "duration": 283,
    "start_time": "2022-02-25T11:03:00.901Z"
   },
   {
    "duration": 10,
    "start_time": "2022-02-25T11:03:01.186Z"
   },
   {
    "duration": 65,
    "start_time": "2022-02-25T11:03:01.199Z"
   },
   {
    "duration": 602,
    "start_time": "2022-02-25T11:03:01.266Z"
   },
   {
    "duration": 491,
    "start_time": "2022-02-25T11:03:01.870Z"
   },
   {
    "duration": 6,
    "start_time": "2022-02-25T11:03:02.363Z"
   },
   {
    "duration": 21,
    "start_time": "2022-02-25T11:03:02.372Z"
   },
   {
    "duration": 14,
    "start_time": "2022-02-25T11:03:02.396Z"
   },
   {
    "duration": 92,
    "start_time": "2022-02-25T11:03:02.412Z"
   },
   {
    "duration": 738,
    "start_time": "2022-02-25T11:03:02.507Z"
   },
   {
    "duration": 6,
    "start_time": "2022-02-25T11:03:03.248Z"
   },
   {
    "duration": 49,
    "start_time": "2022-02-25T11:03:03.257Z"
   },
   {
    "duration": 520,
    "start_time": "2022-02-25T11:03:03.309Z"
   },
   {
    "duration": 669,
    "start_time": "2022-02-25T11:03:03.832Z"
   },
   {
    "duration": 8,
    "start_time": "2022-02-25T11:03:04.507Z"
   },
   {
    "duration": 47,
    "start_time": "2022-02-25T11:03:04.518Z"
   },
   {
    "duration": 53,
    "start_time": "2022-02-25T11:03:04.568Z"
   },
   {
    "duration": 9,
    "start_time": "2022-02-25T11:03:04.623Z"
   },
   {
    "duration": 504,
    "start_time": "2022-02-25T11:03:04.635Z"
   },
   {
    "duration": 666,
    "start_time": "2022-02-25T11:03:05.141Z"
   },
   {
    "duration": 11,
    "start_time": "2022-02-25T11:03:05.810Z"
   },
   {
    "duration": 14,
    "start_time": "2022-02-25T11:03:05.823Z"
   },
   {
    "duration": 398,
    "start_time": "2022-02-25T11:03:05.839Z"
   },
   {
    "duration": 7,
    "start_time": "2022-02-25T11:03:06.239Z"
   },
   {
    "duration": 469,
    "start_time": "2022-02-25T11:03:06.249Z"
   },
   {
    "duration": 8,
    "start_time": "2022-02-25T11:03:06.721Z"
   },
   {
    "duration": 23,
    "start_time": "2022-02-25T11:03:06.732Z"
   },
   {
    "duration": 40,
    "start_time": "2022-02-25T11:03:06.758Z"
   },
   {
    "duration": 15,
    "start_time": "2022-02-25T11:03:06.801Z"
   },
   {
    "duration": 11,
    "start_time": "2022-02-25T11:03:06.819Z"
   },
   {
    "duration": 11,
    "start_time": "2022-02-25T11:03:06.833Z"
   },
   {
    "duration": 61,
    "start_time": "2022-02-25T11:03:06.846Z"
   },
   {
    "duration": 11,
    "start_time": "2022-02-25T11:03:06.909Z"
   },
   {
    "duration": 20,
    "start_time": "2022-02-25T11:03:06.923Z"
   },
   {
    "duration": 15,
    "start_time": "2022-02-25T11:03:06.946Z"
   },
   {
    "duration": 475,
    "start_time": "2022-02-25T11:03:44.565Z"
   },
   {
    "duration": 621,
    "start_time": "2022-02-25T11:03:52.370Z"
   },
   {
    "duration": 7,
    "start_time": "2022-02-25T11:04:00.550Z"
   },
   {
    "duration": 334,
    "start_time": "2022-02-25T11:04:00.560Z"
   },
   {
    "duration": 185,
    "start_time": "2022-02-25T11:04:00.898Z"
   },
   {
    "duration": 62,
    "start_time": "2022-02-25T11:04:01.086Z"
   },
   {
    "duration": 48,
    "start_time": "2022-02-25T11:04:01.150Z"
   },
   {
    "duration": 93,
    "start_time": "2022-02-25T11:04:01.201Z"
   },
   {
    "duration": 17,
    "start_time": "2022-02-25T11:04:01.297Z"
   },
   {
    "duration": 486,
    "start_time": "2022-02-25T11:04:01.316Z"
   },
   {
    "duration": 16,
    "start_time": "2022-02-25T11:04:01.806Z"
   },
   {
    "duration": 456,
    "start_time": "2022-02-25T11:04:01.825Z"
   },
   {
    "duration": 27,
    "start_time": "2022-02-25T11:04:02.283Z"
   },
   {
    "duration": 57,
    "start_time": "2022-02-25T11:04:02.312Z"
   },
   {
    "duration": 281,
    "start_time": "2022-02-25T11:04:02.371Z"
   },
   {
    "duration": 10,
    "start_time": "2022-02-25T11:04:02.655Z"
   },
   {
    "duration": 66,
    "start_time": "2022-02-25T11:04:02.667Z"
   },
   {
    "duration": 520,
    "start_time": "2022-02-25T11:04:02.736Z"
   },
   {
    "duration": 493,
    "start_time": "2022-02-25T11:04:03.259Z"
   },
   {
    "duration": 6,
    "start_time": "2022-02-25T11:04:03.755Z"
   },
   {
    "duration": 30,
    "start_time": "2022-02-25T11:04:03.764Z"
   },
   {
    "duration": 32,
    "start_time": "2022-02-25T11:04:03.797Z"
   },
   {
    "duration": 66,
    "start_time": "2022-02-25T11:04:03.832Z"
   },
   {
    "duration": 564,
    "start_time": "2022-02-25T11:04:03.900Z"
   },
   {
    "duration": 6,
    "start_time": "2022-02-25T11:04:04.466Z"
   },
   {
    "duration": 52,
    "start_time": "2022-02-25T11:04:04.474Z"
   },
   {
    "duration": 495,
    "start_time": "2022-02-25T11:04:04.528Z"
   },
   {
    "duration": 592,
    "start_time": "2022-02-25T11:04:05.025Z"
   },
   {
    "duration": 7,
    "start_time": "2022-02-25T11:04:05.622Z"
   },
   {
    "duration": 43,
    "start_time": "2022-02-25T11:04:05.631Z"
   },
   {
    "duration": 38,
    "start_time": "2022-02-25T11:04:05.694Z"
   },
   {
    "duration": 497,
    "start_time": "2022-02-25T11:04:05.734Z"
   },
   {
    "duration": 668,
    "start_time": "2022-02-25T11:04:06.234Z"
   },
   {
    "duration": 13,
    "start_time": "2022-02-25T11:04:06.905Z"
   },
   {
    "duration": 15,
    "start_time": "2022-02-25T11:04:06.921Z"
   },
   {
    "duration": 409,
    "start_time": "2022-02-25T11:04:06.938Z"
   },
   {
    "duration": 6,
    "start_time": "2022-02-25T11:04:07.350Z"
   },
   {
    "duration": 564,
    "start_time": "2022-02-25T11:04:07.359Z"
   },
   {
    "duration": 6,
    "start_time": "2022-02-25T11:04:07.926Z"
   },
   {
    "duration": 22,
    "start_time": "2022-02-25T11:04:07.934Z"
   },
   {
    "duration": 38,
    "start_time": "2022-02-25T11:04:07.958Z"
   },
   {
    "duration": 13,
    "start_time": "2022-02-25T11:04:07.999Z"
   },
   {
    "duration": 11,
    "start_time": "2022-02-25T11:04:08.015Z"
   },
   {
    "duration": 7,
    "start_time": "2022-02-25T11:04:08.029Z"
   },
   {
    "duration": 60,
    "start_time": "2022-02-25T11:04:08.039Z"
   },
   {
    "duration": 14,
    "start_time": "2022-02-25T11:04:08.102Z"
   },
   {
    "duration": 13,
    "start_time": "2022-02-25T11:04:08.119Z"
   },
   {
    "duration": 12,
    "start_time": "2022-02-25T11:04:08.135Z"
   },
   {
    "duration": 34,
    "start_time": "2022-02-25T11:22:32.537Z"
   },
   {
    "duration": 15,
    "start_time": "2022-02-25T11:24:03.008Z"
   },
   {
    "duration": 14,
    "start_time": "2022-02-25T11:27:41.486Z"
   },
   {
    "duration": 86,
    "start_time": "2022-02-25T11:43:33.650Z"
   },
   {
    "duration": 264,
    "start_time": "2022-02-25T11:43:44.405Z"
   },
   {
    "duration": 6,
    "start_time": "2022-02-25T11:44:26.803Z"
   },
   {
    "duration": 8,
    "start_time": "2022-02-25T11:44:49.050Z"
   },
   {
    "duration": 6,
    "start_time": "2022-02-25T11:45:21.743Z"
   },
   {
    "duration": 10,
    "start_time": "2022-02-25T11:48:57.075Z"
   },
   {
    "duration": 11,
    "start_time": "2022-02-25T11:54:18.268Z"
   },
   {
    "duration": 9,
    "start_time": "2022-02-25T11:54:33.271Z"
   },
   {
    "duration": 11,
    "start_time": "2022-02-25T11:54:52.916Z"
   },
   {
    "duration": 7,
    "start_time": "2022-02-25T11:55:01.951Z"
   },
   {
    "duration": 10,
    "start_time": "2022-02-25T11:55:10.730Z"
   },
   {
    "duration": 13,
    "start_time": "2022-02-25T11:58:53.316Z"
   },
   {
    "duration": 6750,
    "start_time": "2022-02-25T12:00:21.192Z"
   },
   {
    "duration": 15,
    "start_time": "2022-02-25T12:00:33.238Z"
   },
   {
    "duration": 21,
    "start_time": "2022-02-25T12:00:43.751Z"
   },
   {
    "duration": 8074,
    "start_time": "2022-02-25T12:01:26.005Z"
   },
   {
    "duration": 10,
    "start_time": "2022-02-25T12:01:35.339Z"
   },
   {
    "duration": 8,
    "start_time": "2022-02-25T12:02:50.404Z"
   },
   {
    "duration": 18,
    "start_time": "2022-02-25T12:05:22.825Z"
   },
   {
    "duration": 11,
    "start_time": "2022-02-25T12:05:25.006Z"
   },
   {
    "duration": 265,
    "start_time": "2022-02-25T12:05:51.108Z"
   },
   {
    "duration": 11,
    "start_time": "2022-02-25T12:06:13.973Z"
   },
   {
    "duration": 8,
    "start_time": "2022-02-25T12:09:29.716Z"
   },
   {
    "duration": 8,
    "start_time": "2022-02-25T12:10:12.314Z"
   },
   {
    "duration": 12,
    "start_time": "2022-02-25T12:11:29.458Z"
   },
   {
    "duration": 10,
    "start_time": "2022-02-25T12:12:04.245Z"
   },
   {
    "duration": 8,
    "start_time": "2022-02-25T12:12:11.304Z"
   },
   {
    "duration": 11,
    "start_time": "2022-02-25T12:12:18.669Z"
   },
   {
    "duration": 12,
    "start_time": "2022-02-25T12:12:23.161Z"
   },
   {
    "duration": 1294,
    "start_time": "2022-02-25T18:47:38.755Z"
   },
   {
    "duration": 317,
    "start_time": "2022-02-25T18:47:40.052Z"
   },
   {
    "duration": 1401,
    "start_time": "2022-02-25T18:47:40.372Z"
   },
   {
    "duration": 44,
    "start_time": "2022-02-25T18:47:41.776Z"
   },
   {
    "duration": 12,
    "start_time": "2022-02-25T18:47:41.822Z"
   },
   {
    "duration": 63,
    "start_time": "2022-02-25T18:47:41.836Z"
   },
   {
    "duration": 11,
    "start_time": "2022-02-25T18:47:41.901Z"
   },
   {
    "duration": 376,
    "start_time": "2022-02-25T18:47:41.915Z"
   },
   {
    "duration": 12,
    "start_time": "2022-02-25T18:47:42.293Z"
   },
   {
    "duration": 352,
    "start_time": "2022-02-25T18:47:42.307Z"
   },
   {
    "duration": 16,
    "start_time": "2022-02-25T18:47:42.668Z"
   },
   {
    "duration": 31,
    "start_time": "2022-02-25T18:47:42.687Z"
   },
   {
    "duration": 230,
    "start_time": "2022-02-25T18:47:42.720Z"
   },
   {
    "duration": 6,
    "start_time": "2022-02-25T18:47:42.952Z"
   },
   {
    "duration": 48,
    "start_time": "2022-02-25T18:47:42.969Z"
   },
   {
    "duration": 474,
    "start_time": "2022-02-25T18:47:43.019Z"
   },
   {
    "duration": 560,
    "start_time": "2022-02-25T18:47:43.496Z"
   },
   {
    "duration": 11,
    "start_time": "2022-02-25T18:47:44.058Z"
   },
   {
    "duration": 9,
    "start_time": "2022-02-25T18:47:44.072Z"
   },
   {
    "duration": 13,
    "start_time": "2022-02-25T18:47:44.083Z"
   },
   {
    "duration": 60,
    "start_time": "2022-02-25T18:47:44.099Z"
   },
   {
    "duration": 457,
    "start_time": "2022-02-25T18:47:44.170Z"
   },
   {
    "duration": 4,
    "start_time": "2022-02-25T18:47:44.632Z"
   },
   {
    "duration": 39,
    "start_time": "2022-02-25T18:47:44.639Z"
   },
   {
    "duration": 382,
    "start_time": "2022-02-25T18:47:44.680Z"
   },
   {
    "duration": 549,
    "start_time": "2022-02-25T18:47:45.064Z"
   },
   {
    "duration": 6,
    "start_time": "2022-02-25T18:47:45.615Z"
   },
   {
    "duration": 82,
    "start_time": "2022-02-25T18:47:45.623Z"
   },
   {
    "duration": 57,
    "start_time": "2022-02-25T18:47:45.707Z"
   },
   {
    "duration": 409,
    "start_time": "2022-02-25T18:47:45.767Z"
   },
   {
    "duration": 477,
    "start_time": "2022-02-25T18:47:46.178Z"
   },
   {
    "duration": 14,
    "start_time": "2022-02-25T18:47:46.657Z"
   },
   {
    "duration": 42,
    "start_time": "2022-02-25T18:47:46.673Z"
   },
   {
    "duration": 400,
    "start_time": "2022-02-25T18:47:46.717Z"
   },
   {
    "duration": 4,
    "start_time": "2022-02-25T18:47:47.119Z"
   },
   {
    "duration": 411,
    "start_time": "2022-02-25T18:47:47.125Z"
   },
   {
    "duration": 7,
    "start_time": "2022-02-25T18:47:47.538Z"
   },
   {
    "duration": 71,
    "start_time": "2022-02-25T18:47:47.547Z"
   },
   {
    "duration": 51,
    "start_time": "2022-02-25T18:47:47.621Z"
   },
   {
    "duration": 48,
    "start_time": "2022-02-25T18:47:47.674Z"
   },
   {
    "duration": 39,
    "start_time": "2022-02-25T18:47:47.724Z"
   },
   {
    "duration": 53,
    "start_time": "2022-02-25T18:47:47.765Z"
   },
   {
    "duration": 56,
    "start_time": "2022-02-25T18:47:47.820Z"
   },
   {
    "duration": 48,
    "start_time": "2022-02-25T18:47:47.878Z"
   },
   {
    "duration": 61,
    "start_time": "2022-02-25T18:47:47.928Z"
   },
   {
    "duration": 34,
    "start_time": "2022-02-25T18:47:47.991Z"
   },
   {
    "duration": 58,
    "start_time": "2022-02-25T18:47:48.027Z"
   },
   {
    "duration": 47,
    "start_time": "2022-02-25T18:47:48.087Z"
   },
   {
    "duration": 28,
    "start_time": "2022-02-25T18:47:48.136Z"
   },
   {
    "duration": 26,
    "start_time": "2022-02-25T18:47:48.166Z"
   },
   {
    "duration": 44,
    "start_time": "2022-02-25T18:47:48.194Z"
   }
  ],
  "kernelspec": {
   "display_name": "Python 3 (ipykernel)",
   "language": "python",
   "name": "python3"
  },
  "language_info": {
   "codemirror_mode": {
    "name": "ipython",
    "version": 3
   },
   "file_extension": ".py",
   "mimetype": "text/x-python",
   "name": "python",
   "nbconvert_exporter": "python",
   "pygments_lexer": "ipython3",
   "version": "3.9.5"
  },
  "toc": {
   "base_numbering": 1,
   "nav_menu": {},
   "number_sections": true,
   "sideBar": true,
   "skip_h1_title": true,
   "title_cell": "Table of Contents",
   "title_sidebar": "Contents",
   "toc_cell": false,
   "toc_position": {},
   "toc_section_display": true,
   "toc_window_display": false
  }
 },
 "nbformat": 4,
 "nbformat_minor": 2
}
